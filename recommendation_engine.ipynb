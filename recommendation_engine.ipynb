{
  "nbformat": 4,
  "nbformat_minor": 0,
  "metadata": {
    "colab": {
      "name": "recommendation_engine",
      "version": "0.3.2",
      "provenance": [],
      "collapsed_sections": []
    },
    "kernelspec": {
      "name": "python3",
      "display_name": "Python 3"
    },
    "accelerator": "GPU"
  },
  "cells": [
    {
      "cell_type": "code",
      "metadata": {
        "id": "LjrLPCPbYV6y",
        "colab_type": "code",
        "colab": {}
      },
      "source": [
        "##Importing some necessary files.\n",
        "\n",
        "import pandas as pd\n",
        "import matplotlib.pyplot as plt\n",
        "import seaborn as sns\n",
        "import numpy as np\n",
        "import tensorflow as tf"
      ],
      "execution_count": 0,
      "outputs": []
    },
    {
      "cell_type": "code",
      "metadata": {
        "id": "F0Dh06tUYsnM",
        "colab_type": "code",
        "outputId": "61cfd520-217b-443c-c3fb-f34abc6e7b1f",
        "colab": {
          "base_uri": "https://localhost:8080/",
          "height": 343
        }
      },
      "source": [
        "##Loading train and test files from google.drive\n",
        "\n",
        "!pip install pydrive\n",
        "from pydrive.auth import GoogleAuth\n",
        "from pydrive.drive import GoogleDrive\n",
        "from google.colab import auth\n",
        "from oauth2client.client import GoogleCredentials\n",
        "\n",
        "auth.authenticate_user()\n",
        "gauth = GoogleAuth()\n",
        "gauth.credentials = GoogleCredentials.get_application_default()\n",
        "drive = GoogleDrive(gauth)\n",
        "\n"
      ],
      "execution_count": 0,
      "outputs": [
        {
          "output_type": "stream",
          "text": [
            "Collecting pydrive\n",
            "\u001b[?25l  Downloading https://files.pythonhosted.org/packages/52/e0/0e64788e5dd58ce2d6934549676243dc69d982f198524be9b99e9c2a4fd5/PyDrive-1.3.1.tar.gz (987kB)\n",
            "\u001b[K     |████████████████████████████████| 993kB 3.3MB/s \n",
            "\u001b[?25hRequirement already satisfied: google-api-python-client>=1.2 in /usr/local/lib/python3.6/dist-packages (from pydrive) (1.6.7)\n",
            "Requirement already satisfied: oauth2client>=4.0.0 in /usr/local/lib/python3.6/dist-packages (from pydrive) (4.1.3)\n",
            "Requirement already satisfied: PyYAML>=3.0 in /usr/local/lib/python3.6/dist-packages (from pydrive) (3.13)\n",
            "Requirement already satisfied: httplib2<1dev,>=0.9.2 in /usr/local/lib/python3.6/dist-packages (from google-api-python-client>=1.2->pydrive) (0.11.3)\n",
            "Requirement already satisfied: six<2dev,>=1.6.1 in /usr/local/lib/python3.6/dist-packages (from google-api-python-client>=1.2->pydrive) (1.12.0)\n",
            "Requirement already satisfied: uritemplate<4dev,>=3.0.0 in /usr/local/lib/python3.6/dist-packages (from google-api-python-client>=1.2->pydrive) (3.0.0)\n",
            "Requirement already satisfied: pyasn1-modules>=0.0.5 in /usr/local/lib/python3.6/dist-packages (from oauth2client>=4.0.0->pydrive) (0.2.5)\n",
            "Requirement already satisfied: rsa>=3.1.4 in /usr/local/lib/python3.6/dist-packages (from oauth2client>=4.0.0->pydrive) (4.0)\n",
            "Requirement already satisfied: pyasn1>=0.1.7 in /usr/local/lib/python3.6/dist-packages (from oauth2client>=4.0.0->pydrive) (0.4.5)\n",
            "Building wheels for collected packages: pydrive\n",
            "  Building wheel for pydrive (setup.py) ... \u001b[?25l\u001b[?25hdone\n",
            "  Stored in directory: /root/.cache/pip/wheels/fa/d2/9a/d3b6b506c2da98289e5d417215ce34b696db856643bad779f4\n",
            "Successfully built pydrive\n",
            "Installing collected packages: pydrive\n",
            "Successfully installed pydrive-1.3.1\n"
          ],
          "name": "stdout"
        }
      ]
    },
    {
      "cell_type": "code",
      "metadata": {
        "id": "mBSRWvNIZIzs",
        "colab_type": "code",
        "colab": {}
      },
      "source": [
        "##Training data..\n",
        "train_file = drive.CreateFile({'id':'15T0LRYTQphP0Emu3_Ri9TBSBd8zZTgVo'})\n",
        "train_file.GetContentFile('train.csv')"
      ],
      "execution_count": 0,
      "outputs": []
    },
    {
      "cell_type": "code",
      "metadata": {
        "id": "QJwc5dhHaw76",
        "colab_type": "code",
        "outputId": "30e74ca8-a976-4217-cd00-74b114086d16",
        "colab": {
          "base_uri": "https://localhost:8080/",
          "height": 34
        }
      },
      "source": [
        "!ls"
      ],
      "execution_count": 0,
      "outputs": [
        {
          "output_type": "stream",
          "text": [
            "adc.json  sample_data  test.csv  train.csv\n"
          ],
          "name": "stdout"
        }
      ]
    },
    {
      "cell_type": "code",
      "metadata": {
        "id": "LZx3Aj_layun",
        "colab_type": "code",
        "outputId": "4f92b482-24da-4a4c-90e9-a816109426f8",
        "colab": {
          "base_uri": "https://localhost:8080/",
          "height": 221
        }
      },
      "source": [
        "##Loading training data in to running env...\n",
        "train = pd.read_csv(\"train.csv\")\n",
        "print(\"Shape of the training file is {}\".format(train.shape))\n",
        "\n",
        "train.head()\n"
      ],
      "execution_count": 0,
      "outputs": [
        {
          "output_type": "stream",
          "text": [
            "Shape of the training file is (330575, 7)\n"
          ],
          "name": "stdout"
        },
        {
          "output_type": "execute_result",
          "data": {
            "text/html": [
              "<div>\n",
              "<style scoped>\n",
              "    .dataframe tbody tr th:only-of-type {\n",
              "        vertical-align: middle;\n",
              "    }\n",
              "\n",
              "    .dataframe tbody tr th {\n",
              "        vertical-align: top;\n",
              "    }\n",
              "\n",
              "    .dataframe thead th {\n",
              "        text-align: right;\n",
              "    }\n",
              "</style>\n",
              "<table border=\"1\" class=\"dataframe\">\n",
              "  <thead>\n",
              "    <tr style=\"text-align: right;\">\n",
              "      <th></th>\n",
              "      <th>CustomerID</th>\n",
              "      <th>InvoiceNo</th>\n",
              "      <th>Quantity</th>\n",
              "      <th>InvoiceDate</th>\n",
              "      <th>UnitPrice</th>\n",
              "      <th>Country</th>\n",
              "      <th>StockCode</th>\n",
              "    </tr>\n",
              "  </thead>\n",
              "  <tbody>\n",
              "    <tr>\n",
              "      <th>0</th>\n",
              "      <td>27270</td>\n",
              "      <td>27270</td>\n",
              "      <td>7</td>\n",
              "      <td>01/12/10 8:26</td>\n",
              "      <td>2.55</td>\n",
              "      <td>PX</td>\n",
              "      <td>85123AY</td>\n",
              "    </tr>\n",
              "    <tr>\n",
              "      <th>1</th>\n",
              "      <td>27270</td>\n",
              "      <td>27270</td>\n",
              "      <td>7</td>\n",
              "      <td>01/12/10 8:26</td>\n",
              "      <td>3.39</td>\n",
              "      <td>PX</td>\n",
              "      <td>71053R</td>\n",
              "    </tr>\n",
              "    <tr>\n",
              "      <th>2</th>\n",
              "      <td>27270</td>\n",
              "      <td>27270</td>\n",
              "      <td>9</td>\n",
              "      <td>01/12/10 8:26</td>\n",
              "      <td>2.75</td>\n",
              "      <td>PX</td>\n",
              "      <td>84406BH</td>\n",
              "    </tr>\n",
              "    <tr>\n",
              "      <th>3</th>\n",
              "      <td>27270</td>\n",
              "      <td>27270</td>\n",
              "      <td>7</td>\n",
              "      <td>01/12/10 8:26</td>\n",
              "      <td>3.39</td>\n",
              "      <td>PX</td>\n",
              "      <td>84029GV</td>\n",
              "    </tr>\n",
              "    <tr>\n",
              "      <th>4</th>\n",
              "      <td>27270</td>\n",
              "      <td>27270</td>\n",
              "      <td>7</td>\n",
              "      <td>01/12/10 8:26</td>\n",
              "      <td>3.39</td>\n",
              "      <td>PX</td>\n",
              "      <td>84029EX</td>\n",
              "    </tr>\n",
              "  </tbody>\n",
              "</table>\n",
              "</div>"
            ],
            "text/plain": [
              "   CustomerID  InvoiceNo  Quantity    InvoiceDate  UnitPrice Country StockCode\n",
              "0       27270      27270         7  01/12/10 8:26       2.55      PX   85123AY\n",
              "1       27270      27270         7  01/12/10 8:26       3.39      PX    71053R\n",
              "2       27270      27270         9  01/12/10 8:26       2.75      PX   84406BH\n",
              "3       27270      27270         7  01/12/10 8:26       3.39      PX   84029GV\n",
              "4       27270      27270         7  01/12/10 8:26       3.39      PX   84029EX"
            ]
          },
          "metadata": {
            "tags": []
          },
          "execution_count": 70
        }
      ]
    },
    {
      "cell_type": "markdown",
      "metadata": {
        "id": "cwb0qaSob4gc",
        "colab_type": "text"
      },
      "source": [
        "# EDA"
      ]
    },
    {
      "cell_type": "code",
      "metadata": {
        "id": "ywRZKV2JyEbp",
        "colab_type": "code",
        "colab": {}
      },
      "source": [
        "data = pd.melt(train.set_index('CustomerID')['StockCode'].apply(pd.Series).reset_index(), \n",
        "             id_vars=['CustomerID'],\n",
        "             value_name='StockCode') \\\n",
        "    .groupby(['CustomerID', 'StockCode']) \\\n",
        "    .agg({'StockCode': 'count'}) \\\n",
        "    .rename(columns={'StockCode': 'purchase_count'}) \\\n",
        "    .reset_index() \\\n",
        "    .rename(columns={'StockCode': 'productId'})"
      ],
      "execution_count": 0,
      "outputs": []
    },
    {
      "cell_type": "code",
      "metadata": {
        "id": "aoiztjuyn-SS",
        "colab_type": "code",
        "colab": {}
      },
      "source": [
        "def create_data_dummy(data):\n",
        "    data_dummy = data.copy()\n",
        "    data_dummy['purchase_dummy'] = 1\n",
        "    return data_dummy\n",
        "data_dummy = create_data_dummy(data)"
      ],
      "execution_count": 0,
      "outputs": []
    },
    {
      "cell_type": "code",
      "metadata": {
        "id": "C63gfy6hrzUk",
        "colab_type": "code",
        "outputId": "a54efa61-cc9c-4dd7-9de5-6d90c96d2909",
        "colab": {
          "base_uri": "https://localhost:8080/",
          "height": 51
        }
      },
      "source": [
        "data_dummy['purchase_dummy'].value_counts()"
      ],
      "execution_count": 0,
      "outputs": [
        {
          "output_type": "execute_result",
          "data": {
            "text/plain": [
              "1    271031\n",
              "Name: purchase_dummy, dtype: int64"
            ]
          },
          "metadata": {
            "tags": []
          },
          "execution_count": 7
        }
      ]
    },
    {
      "cell_type": "code",
      "metadata": {
        "id": "FXARV5wsr0c2",
        "colab_type": "code",
        "colab": {}
      },
      "source": [
        "df_matrix = pd.pivot_table(data, values='purchase_count', index='CustomerID', columns='productId')"
      ],
      "execution_count": 0,
      "outputs": []
    },
    {
      "cell_type": "code",
      "metadata": {
        "id": "iaMPbQO6sMQ6",
        "colab_type": "code",
        "outputId": "63f3c72e-7db1-49fa-c54a-cd797ee159eb",
        "colab": {
          "base_uri": "https://localhost:8080/",
          "height": 284
        }
      },
      "source": [
        "df_matrix.head()"
      ],
      "execution_count": 0,
      "outputs": [
        {
          "output_type": "execute_result",
          "data": {
            "text/html": [
              "<div>\n",
              "<style scoped>\n",
              "    .dataframe tbody tr th:only-of-type {\n",
              "        vertical-align: middle;\n",
              "    }\n",
              "\n",
              "    .dataframe tbody tr th {\n",
              "        vertical-align: top;\n",
              "    }\n",
              "\n",
              "    .dataframe thead th {\n",
              "        text-align: right;\n",
              "    }\n",
              "</style>\n",
              "<table border=\"1\" class=\"dataframe\">\n",
              "  <thead>\n",
              "    <tr style=\"text-align: right;\">\n",
              "      <th>productId</th>\n",
              "      <th>10002F</th>\n",
              "      <th>10080Q</th>\n",
              "      <th>10120M</th>\n",
              "      <th>10123CU</th>\n",
              "      <th>10124AW</th>\n",
              "      <th>10124GF</th>\n",
              "      <th>10125J</th>\n",
              "      <th>10133M</th>\n",
              "      <th>10135P</th>\n",
              "      <th>11001M</th>\n",
              "      <th>...</th>\n",
              "      <th>90214OZ</th>\n",
              "      <th>90214PB</th>\n",
              "      <th>90214RZ</th>\n",
              "      <th>90214SF</th>\n",
              "      <th>90214TT</th>\n",
              "      <th>90214UO</th>\n",
              "      <th>90214VD</th>\n",
              "      <th>90214WH</th>\n",
              "      <th>90214YL</th>\n",
              "      <th>90214ZJ</th>\n",
              "    </tr>\n",
              "    <tr>\n",
              "      <th>CustomerID</th>\n",
              "      <th></th>\n",
              "      <th></th>\n",
              "      <th></th>\n",
              "      <th></th>\n",
              "      <th></th>\n",
              "      <th></th>\n",
              "      <th></th>\n",
              "      <th></th>\n",
              "      <th></th>\n",
              "      <th></th>\n",
              "      <th></th>\n",
              "      <th></th>\n",
              "      <th></th>\n",
              "      <th></th>\n",
              "      <th></th>\n",
              "      <th></th>\n",
              "      <th></th>\n",
              "      <th></th>\n",
              "      <th></th>\n",
              "      <th></th>\n",
              "      <th></th>\n",
              "    </tr>\n",
              "  </thead>\n",
              "  <tbody>\n",
              "    <tr>\n",
              "      <th>0</th>\n",
              "      <td>NaN</td>\n",
              "      <td>NaN</td>\n",
              "      <td>NaN</td>\n",
              "      <td>NaN</td>\n",
              "      <td>NaN</td>\n",
              "      <td>NaN</td>\n",
              "      <td>NaN</td>\n",
              "      <td>NaN</td>\n",
              "      <td>NaN</td>\n",
              "      <td>NaN</td>\n",
              "      <td>...</td>\n",
              "      <td>NaN</td>\n",
              "      <td>NaN</td>\n",
              "      <td>NaN</td>\n",
              "      <td>NaN</td>\n",
              "      <td>NaN</td>\n",
              "      <td>NaN</td>\n",
              "      <td>NaN</td>\n",
              "      <td>NaN</td>\n",
              "      <td>NaN</td>\n",
              "      <td>NaN</td>\n",
              "    </tr>\n",
              "    <tr>\n",
              "      <th>900</th>\n",
              "      <td>NaN</td>\n",
              "      <td>NaN</td>\n",
              "      <td>NaN</td>\n",
              "      <td>NaN</td>\n",
              "      <td>NaN</td>\n",
              "      <td>NaN</td>\n",
              "      <td>NaN</td>\n",
              "      <td>NaN</td>\n",
              "      <td>2.0</td>\n",
              "      <td>1.0</td>\n",
              "      <td>...</td>\n",
              "      <td>NaN</td>\n",
              "      <td>NaN</td>\n",
              "      <td>NaN</td>\n",
              "      <td>NaN</td>\n",
              "      <td>NaN</td>\n",
              "      <td>NaN</td>\n",
              "      <td>NaN</td>\n",
              "      <td>NaN</td>\n",
              "      <td>NaN</td>\n",
              "      <td>NaN</td>\n",
              "    </tr>\n",
              "    <tr>\n",
              "      <th>1800</th>\n",
              "      <td>NaN</td>\n",
              "      <td>NaN</td>\n",
              "      <td>NaN</td>\n",
              "      <td>NaN</td>\n",
              "      <td>NaN</td>\n",
              "      <td>NaN</td>\n",
              "      <td>NaN</td>\n",
              "      <td>NaN</td>\n",
              "      <td>NaN</td>\n",
              "      <td>NaN</td>\n",
              "      <td>...</td>\n",
              "      <td>NaN</td>\n",
              "      <td>NaN</td>\n",
              "      <td>NaN</td>\n",
              "      <td>NaN</td>\n",
              "      <td>NaN</td>\n",
              "      <td>NaN</td>\n",
              "      <td>NaN</td>\n",
              "      <td>NaN</td>\n",
              "      <td>NaN</td>\n",
              "      <td>NaN</td>\n",
              "    </tr>\n",
              "    <tr>\n",
              "      <th>2790</th>\n",
              "      <td>NaN</td>\n",
              "      <td>NaN</td>\n",
              "      <td>NaN</td>\n",
              "      <td>NaN</td>\n",
              "      <td>NaN</td>\n",
              "      <td>NaN</td>\n",
              "      <td>NaN</td>\n",
              "      <td>NaN</td>\n",
              "      <td>NaN</td>\n",
              "      <td>NaN</td>\n",
              "      <td>...</td>\n",
              "      <td>NaN</td>\n",
              "      <td>NaN</td>\n",
              "      <td>NaN</td>\n",
              "      <td>NaN</td>\n",
              "      <td>NaN</td>\n",
              "      <td>NaN</td>\n",
              "      <td>NaN</td>\n",
              "      <td>NaN</td>\n",
              "      <td>NaN</td>\n",
              "      <td>NaN</td>\n",
              "    </tr>\n",
              "    <tr>\n",
              "      <th>4590</th>\n",
              "      <td>NaN</td>\n",
              "      <td>NaN</td>\n",
              "      <td>NaN</td>\n",
              "      <td>NaN</td>\n",
              "      <td>NaN</td>\n",
              "      <td>NaN</td>\n",
              "      <td>NaN</td>\n",
              "      <td>NaN</td>\n",
              "      <td>NaN</td>\n",
              "      <td>NaN</td>\n",
              "      <td>...</td>\n",
              "      <td>NaN</td>\n",
              "      <td>NaN</td>\n",
              "      <td>NaN</td>\n",
              "      <td>NaN</td>\n",
              "      <td>NaN</td>\n",
              "      <td>NaN</td>\n",
              "      <td>NaN</td>\n",
              "      <td>NaN</td>\n",
              "      <td>NaN</td>\n",
              "      <td>NaN</td>\n",
              "    </tr>\n",
              "  </tbody>\n",
              "</table>\n",
              "<p>5 rows × 3810 columns</p>\n",
              "</div>"
            ],
            "text/plain": [
              "productId   10002F  10080Q  10120M  10123CU  10124AW  10124GF  10125J  10133M  \\\n",
              "CustomerID                                                                      \n",
              "0              NaN     NaN     NaN      NaN      NaN      NaN     NaN     NaN   \n",
              "900            NaN     NaN     NaN      NaN      NaN      NaN     NaN     NaN   \n",
              "1800           NaN     NaN     NaN      NaN      NaN      NaN     NaN     NaN   \n",
              "2790           NaN     NaN     NaN      NaN      NaN      NaN     NaN     NaN   \n",
              "4590           NaN     NaN     NaN      NaN      NaN      NaN     NaN     NaN   \n",
              "\n",
              "productId   10135P  11001M  ...  90214OZ  90214PB  90214RZ  90214SF  90214TT  \\\n",
              "CustomerID                  ...                                                \n",
              "0              NaN     NaN  ...      NaN      NaN      NaN      NaN      NaN   \n",
              "900            2.0     1.0  ...      NaN      NaN      NaN      NaN      NaN   \n",
              "1800           NaN     NaN  ...      NaN      NaN      NaN      NaN      NaN   \n",
              "2790           NaN     NaN  ...      NaN      NaN      NaN      NaN      NaN   \n",
              "4590           NaN     NaN  ...      NaN      NaN      NaN      NaN      NaN   \n",
              "\n",
              "productId   90214UO  90214VD  90214WH  90214YL  90214ZJ  \n",
              "CustomerID                                               \n",
              "0               NaN      NaN      NaN      NaN      NaN  \n",
              "900             NaN      NaN      NaN      NaN      NaN  \n",
              "1800            NaN      NaN      NaN      NaN      NaN  \n",
              "2790            NaN      NaN      NaN      NaN      NaN  \n",
              "4590            NaN      NaN      NaN      NaN      NaN  \n",
              "\n",
              "[5 rows x 3810 columns]"
            ]
          },
          "metadata": {
            "tags": []
          },
          "execution_count": 10
        }
      ]
    },
    {
      "cell_type": "code",
      "metadata": {
        "id": "pDAKBtVisNjA",
        "colab_type": "code",
        "colab": {}
      },
      "source": [
        "df_matrix_norm = (df_matrix-df_matrix.min())/(df_matrix.max()-df_matrix.min())"
      ],
      "execution_count": 0,
      "outputs": []
    },
    {
      "cell_type": "code",
      "metadata": {
        "id": "o6oFdimJsSmv",
        "colab_type": "code",
        "outputId": "8d170381-f67c-4088-9e5a-2d81b6679713",
        "colab": {
          "base_uri": "https://localhost:8080/",
          "height": 221
        }
      },
      "source": [
        "d = df_matrix_norm.reset_index() \n",
        "d.index.names = ['scaled_purchase_freq'] \n",
        "data_norm = pd.melt(d, id_vars=['CustomerID'], value_name='scaled_purchase_freq').dropna()\n",
        "print(data_norm.shape)\n",
        "data_norm.head()"
      ],
      "execution_count": 0,
      "outputs": [
        {
          "output_type": "stream",
          "text": [
            "(256976, 3)\n"
          ],
          "name": "stdout"
        },
        {
          "output_type": "execute_result",
          "data": {
            "text/html": [
              "<div>\n",
              "<style scoped>\n",
              "    .dataframe tbody tr th:only-of-type {\n",
              "        vertical-align: middle;\n",
              "    }\n",
              "\n",
              "    .dataframe tbody tr th {\n",
              "        vertical-align: top;\n",
              "    }\n",
              "\n",
              "    .dataframe thead th {\n",
              "        text-align: right;\n",
              "    }\n",
              "</style>\n",
              "<table border=\"1\" class=\"dataframe\">\n",
              "  <thead>\n",
              "    <tr style=\"text-align: right;\">\n",
              "      <th></th>\n",
              "      <th>CustomerID</th>\n",
              "      <th>productId</th>\n",
              "      <th>scaled_purchase_freq</th>\n",
              "    </tr>\n",
              "  </thead>\n",
              "  <tbody>\n",
              "    <tr>\n",
              "      <th>38</th>\n",
              "      <td>25470</td>\n",
              "      <td>10002F</td>\n",
              "      <td>0.0</td>\n",
              "    </tr>\n",
              "    <tr>\n",
              "      <th>99</th>\n",
              "      <td>50949</td>\n",
              "      <td>10002F</td>\n",
              "      <td>0.0</td>\n",
              "    </tr>\n",
              "    <tr>\n",
              "      <th>114</th>\n",
              "      <td>56340</td>\n",
              "      <td>10002F</td>\n",
              "      <td>0.0</td>\n",
              "    </tr>\n",
              "    <tr>\n",
              "      <th>132</th>\n",
              "      <td>64539</td>\n",
              "      <td>10002F</td>\n",
              "      <td>0.0</td>\n",
              "    </tr>\n",
              "    <tr>\n",
              "      <th>140</th>\n",
              "      <td>68229</td>\n",
              "      <td>10002F</td>\n",
              "      <td>0.0</td>\n",
              "    </tr>\n",
              "  </tbody>\n",
              "</table>\n",
              "</div>"
            ],
            "text/plain": [
              "     CustomerID productId  scaled_purchase_freq\n",
              "38        25470    10002F                   0.0\n",
              "99        50949    10002F                   0.0\n",
              "114       56340    10002F                   0.0\n",
              "132       64539    10002F                   0.0\n",
              "140       68229    10002F                   0.0"
            ]
          },
          "metadata": {
            "tags": []
          },
          "execution_count": 12
        }
      ]
    },
    {
      "cell_type": "code",
      "metadata": {
        "id": "49RiNRCnsdmg",
        "colab_type": "code",
        "outputId": "b8ff55ff-a664-4335-cc71-3eeb8e4204e3",
        "colab": {
          "base_uri": "https://localhost:8080/",
          "height": 170
        }
      },
      "source": [
        "data_norm['scaled_purchase_freq'].describe()"
      ],
      "execution_count": 0,
      "outputs": [
        {
          "output_type": "execute_result",
          "data": {
            "text/plain": [
              "count    256976.000000\n",
              "mean          0.081394\n",
              "std           0.209182\n",
              "min           0.000000\n",
              "25%           0.000000\n",
              "50%           0.000000\n",
              "75%           0.000000\n",
              "max           1.000000\n",
              "Name: scaled_purchase_freq, dtype: float64"
            ]
          },
          "metadata": {
            "tags": []
          },
          "execution_count": 13
        }
      ]
    },
    {
      "cell_type": "code",
      "metadata": {
        "id": "Pp-kVP6Vyy0o",
        "colab_type": "code",
        "colab": {}
      },
      "source": [
        "!pip install turicreate"
      ],
      "execution_count": 0,
      "outputs": []
    },
    {
      "cell_type": "code",
      "metadata": {
        "id": "nsOqzPWWsmeI",
        "colab_type": "code",
        "colab": {}
      },
      "source": [
        "\n",
        "import turicreate as tc\n",
        "from sklearn.model_selection import train_test_split\n",
        "def split_data(data):\n",
        "    '''\n",
        "    Splits dataset into training and test set.\n",
        "    \n",
        "    Args:\n",
        "        data (pandas.DataFrame)\n",
        "        \n",
        "    Returns\n",
        "        train_data (tc.SFrame)\n",
        "        test_data (tc.SFrame)\n",
        "    '''\n",
        "    train, test = train_test_split(data, test_size = .2)\n",
        "    train_data = tc.SFrame(train)\n",
        "    test_data = tc.SFrame(test)\n",
        "    return train_data, test_data"
      ],
      "execution_count": 0,
      "outputs": []
    },
    {
      "cell_type": "code",
      "metadata": {
        "id": "PYi66v2mtD8L",
        "colab_type": "code",
        "colab": {}
      },
      "source": [
        "train_data, test_data = split_data(data)\n",
        "train_data_dummy, test_data_dummy = split_data(data_dummy)\n",
        "train_data_norm, test_data_norm = split_data(data_norm)"
      ],
      "execution_count": 0,
      "outputs": []
    },
    {
      "cell_type": "code",
      "metadata": {
        "id": "LuJcnJ99tudT",
        "colab_type": "code",
        "outputId": "4089562c-ee24-43e7-d645-7bb8ff5ab04d",
        "colab": {
          "base_uri": "https://localhost:8080/",
          "height": 245
        }
      },
      "source": [
        "train_data.head()"
      ],
      "execution_count": 0,
      "outputs": [
        {
          "output_type": "execute_result",
          "data": {
            "text/html": [
              "<div style=\"max-height:1000px;max-width:1500px;overflow:auto;\"><table frame=\"box\" rules=\"cols\">\n",
              "    <tr>\n",
              "        <th style=\"padding-left: 1em; padding-right: 1em; text-align: center\">CustomerID</th>\n",
              "        <th style=\"padding-left: 1em; padding-right: 1em; text-align: center\">productId</th>\n",
              "        <th style=\"padding-left: 1em; padding-right: 1em; text-align: center\">purchase_count</th>\n",
              "    </tr>\n",
              "    <tr>\n",
              "        <td style=\"padding-left: 1em; padding-right: 1em; text-align: center; vertical-align: top\">205488</td>\n",
              "        <td style=\"padding-left: 1em; padding-right: 1em; text-align: center; vertical-align: top\">20754G</td>\n",
              "        <td style=\"padding-left: 1em; padding-right: 1em; text-align: center; vertical-align: top\">1</td>\n",
              "    </tr>\n",
              "    <tr>\n",
              "        <td style=\"padding-left: 1em; padding-right: 1em; text-align: center; vertical-align: top\">176418</td>\n",
              "        <td style=\"padding-left: 1em; padding-right: 1em; text-align: center; vertical-align: top\">22670P</td>\n",
              "        <td style=\"padding-left: 1em; padding-right: 1em; text-align: center; vertical-align: top\">1</td>\n",
              "    </tr>\n",
              "    <tr>\n",
              "        <td style=\"padding-left: 1em; padding-right: 1em; text-align: center; vertical-align: top\">443556</td>\n",
              "        <td style=\"padding-left: 1em; padding-right: 1em; text-align: center; vertical-align: top\">90175DM</td>\n",
              "        <td style=\"padding-left: 1em; padding-right: 1em; text-align: center; vertical-align: top\">1</td>\n",
              "    </tr>\n",
              "    <tr>\n",
              "        <td style=\"padding-left: 1em; padding-right: 1em; text-align: center; vertical-align: top\">286317</td>\n",
              "        <td style=\"padding-left: 1em; padding-right: 1em; text-align: center; vertical-align: top\">82551H</td>\n",
              "        <td style=\"padding-left: 1em; padding-right: 1em; text-align: center; vertical-align: top\">1</td>\n",
              "    </tr>\n",
              "    <tr>\n",
              "        <td style=\"padding-left: 1em; padding-right: 1em; text-align: center; vertical-align: top\">59040</td>\n",
              "        <td style=\"padding-left: 1em; padding-right: 1em; text-align: center; vertical-align: top\">22326L</td>\n",
              "        <td style=\"padding-left: 1em; padding-right: 1em; text-align: center; vertical-align: top\">1</td>\n",
              "    </tr>\n",
              "    <tr>\n",
              "        <td style=\"padding-left: 1em; padding-right: 1em; text-align: center; vertical-align: top\">194508</td>\n",
              "        <td style=\"padding-left: 1em; padding-right: 1em; text-align: center; vertical-align: top\">22496R</td>\n",
              "        <td style=\"padding-left: 1em; padding-right: 1em; text-align: center; vertical-align: top\">1</td>\n",
              "    </tr>\n",
              "    <tr>\n",
              "        <td style=\"padding-left: 1em; padding-right: 1em; text-align: center; vertical-align: top\">514485</td>\n",
              "        <td style=\"padding-left: 1em; padding-right: 1em; text-align: center; vertical-align: top\">22629C</td>\n",
              "        <td style=\"padding-left: 1em; padding-right: 1em; text-align: center; vertical-align: top\">1</td>\n",
              "    </tr>\n",
              "    <tr>\n",
              "        <td style=\"padding-left: 1em; padding-right: 1em; text-align: center; vertical-align: top\">386406</td>\n",
              "        <td style=\"padding-left: 1em; padding-right: 1em; text-align: center; vertical-align: top\">22727B</td>\n",
              "        <td style=\"padding-left: 1em; padding-right: 1em; text-align: center; vertical-align: top\">2</td>\n",
              "    </tr>\n",
              "    <tr>\n",
              "        <td style=\"padding-left: 1em; padding-right: 1em; text-align: center; vertical-align: top\">7290</td>\n",
              "        <td style=\"padding-left: 1em; padding-right: 1em; text-align: center; vertical-align: top\">22766P</td>\n",
              "        <td style=\"padding-left: 1em; padding-right: 1em; text-align: center; vertical-align: top\">1</td>\n",
              "    </tr>\n",
              "    <tr>\n",
              "        <td style=\"padding-left: 1em; padding-right: 1em; text-align: center; vertical-align: top\">402696</td>\n",
              "        <td style=\"padding-left: 1em; padding-right: 1em; text-align: center; vertical-align: top\">22732E</td>\n",
              "        <td style=\"padding-left: 1em; padding-right: 1em; text-align: center; vertical-align: top\">1</td>\n",
              "    </tr>\n",
              "</table>\n",
              "[10 rows x 3 columns]<br/>\n",
              "</div>"
            ],
            "text/plain": [
              "Columns:\n",
              "\tCustomerID\tint\n",
              "\tproductId\tstr\n",
              "\tpurchase_count\tint\n",
              "\n",
              "Rows: 10\n",
              "\n",
              "Data:\n",
              "+------------+-----------+----------------+\n",
              "| CustomerID | productId | purchase_count |\n",
              "+------------+-----------+----------------+\n",
              "|   205488   |   20754G  |       1        |\n",
              "|   176418   |   22670P  |       1        |\n",
              "|   443556   |  90175DM  |       1        |\n",
              "|   286317   |   82551H  |       1        |\n",
              "|   59040    |   22326L  |       1        |\n",
              "|   194508   |   22496R  |       1        |\n",
              "|   514485   |   22629C  |       1        |\n",
              "|   386406   |   22727B  |       2        |\n",
              "|    7290    |   22766P  |       1        |\n",
              "|   402696   |   22732E  |       1        |\n",
              "+------------+-----------+----------------+\n",
              "[10 rows x 3 columns]"
            ]
          },
          "metadata": {
            "tags": []
          },
          "execution_count": 20
        }
      ]
    },
    {
      "cell_type": "code",
      "metadata": {
        "id": "e3i0SxJBv84U",
        "colab_type": "code",
        "colab": {}
      },
      "source": [
        "# constant variables to define field names include:\n",
        "user_id = 'CustomerID'\n",
        "item_id = 'productId'\n",
        "users_to_recommend = list(set(train['CustomerID']))\n",
        "n_rec = 10 # number of items to recommend\n",
        "n_display = 30 # to display the first few rows in an output datase"
      ],
      "execution_count": 0,
      "outputs": []
    },
    {
      "cell_type": "code",
      "metadata": {
        "id": "-W_uh-bVwmQD",
        "colab_type": "code",
        "colab": {}
      },
      "source": [
        "def model(train_data, name, user_id, item_id, target, users_to_recommend, n_rec, n_display):\n",
        "    if name == 'popularity':\n",
        "        model = tc.popularity_recommender.create(train_data, \n",
        "                                                    user_id=user_id, \n",
        "                                                    item_id=item_id, \n",
        "                                                    target=target)\n",
        "    elif name == 'cosine':\n",
        "        model = tc.item_similarity_recommender.create(train_data, \n",
        "                                                    user_id=user_id, \n",
        "                                                    item_id=item_id, \n",
        "                                                    target=target, \n",
        "                                                    similarity_type='cosine')\n",
        "        \n",
        "    elif name == 'pearson':\n",
        "        model = tc.item_similarity_recommender.create(train_data, \n",
        "                                                    user_id=user_id, \n",
        "                                                    item_id=item_id, \n",
        "                                                    target=target, \n",
        "                                                    similarity_type='pearson')\n",
        "        \n",
        "    recom = model.recommend(users=users_to_recommend, k=n_rec)\n",
        "    recom.print_rows(n_display)\n",
        "    return model"
      ],
      "execution_count": 0,
      "outputs": []
    },
    {
      "cell_type": "code",
      "metadata": {
        "id": "zlATYryDwoJv",
        "colab_type": "code",
        "outputId": "baa40858-9abe-4b36-bfda-0c8ed55bd225",
        "colab": {
          "base_uri": "https://localhost:8080/",
          "height": 697
        }
      },
      "source": [
        "name = 'popularity'\n",
        "target = 'purchase_count'\n",
        "popularity = model(train_data, name,user_id, item_id, target, users_to_recommend, n_rec, n_display)"
      ],
      "execution_count": 0,
      "outputs": [
        {
          "output_type": "display_data",
          "data": {
            "text/html": [
              "<pre>Preparing data set.</pre>"
            ],
            "text/plain": [
              "Preparing data set."
            ]
          },
          "metadata": {
            "tags": []
          }
        },
        {
          "output_type": "display_data",
          "data": {
            "text/html": [
              "<pre>    Data has 216824 observations with 972 users and 3769 items.</pre>"
            ],
            "text/plain": [
              "    Data has 216824 observations with 972 users and 3769 items."
            ]
          },
          "metadata": {
            "tags": []
          }
        },
        {
          "output_type": "display_data",
          "data": {
            "text/html": [
              "<pre>    Data prepared in: 0.226455s</pre>"
            ],
            "text/plain": [
              "    Data prepared in: 0.226455s"
            ]
          },
          "metadata": {
            "tags": []
          }
        },
        {
          "output_type": "display_data",
          "data": {
            "text/html": [
              "<pre>216824 observations to process; with 3769 unique items.</pre>"
            ],
            "text/plain": [
              "216824 observations to process; with 3769 unique items."
            ]
          },
          "metadata": {
            "tags": []
          }
        },
        {
          "output_type": "stream",
          "text": [
            "+------------+-----------+--------------------+------+\n",
            "| CustomerID | productId |       score        | rank |\n",
            "+------------+-----------+--------------------+------+\n",
            "|     0      |  85099BJ  | 2.2557172557172556 |  1   |\n",
            "|     0      |  81953BF  |        2.0         |  2   |\n",
            "|     0      |   22197J  | 1.8520408163265305 |  3   |\n",
            "|     0      |   84879M  | 1.8121827411167513 |  4   |\n",
            "|     0      |   23442T  |        1.8         |  5   |\n",
            "|     0      |   22386V  |      1.78125       |  6   |\n",
            "|     0      |  90199CA  |        1.75        |  7   |\n",
            "|     0      |   22960K  | 1.7359550561797752 |  8   |\n",
            "|     0      |   23298Q  | 1.7262247838616716 |  9   |\n",
            "|     0      |   22457C  | 1.7245989304812834 |  10  |\n",
            "|   32769    |   22423U  | 2.3326133909287257 |  1   |\n",
            "|   32769    |  85099BJ  | 2.2557172557172556 |  2   |\n",
            "|   32769    |   20725N  | 2.0349127182044886 |  3   |\n",
            "|   32769    |   47566Y  | 2.009367681498829  |  4   |\n",
            "|   32769    |  81953BF  |        2.0         |  5   |\n",
            "|   32769    |   22197J  | 1.8520408163265305 |  6   |\n",
            "|   32769    |   22720A  | 1.8419753086419752 |  7   |\n",
            "|   32769    |   22383K  | 1.8273972602739725 |  8   |\n",
            "|   32769    |   84879M  | 1.8121827411167513 |  9   |\n",
            "|   32769    |   21212D  | 1.8107416879795397 |  10  |\n",
            "|   24579    |  85123AY  | 2.3653444676409188 |  1   |\n",
            "|   24579    |   22423U  | 2.3326133909287257 |  2   |\n",
            "|   24579    |  85099BJ  | 2.2557172557172556 |  3   |\n",
            "|   24579    |   20725N  | 2.0349127182044886 |  4   |\n",
            "|   24579    |   47566Y  | 2.009367681498829  |  5   |\n",
            "|   24579    |  81953BF  |        2.0         |  6   |\n",
            "|   24579    |   22197J  | 1.8520408163265305 |  7   |\n",
            "|   24579    |   22720A  | 1.8419753086419752 |  8   |\n",
            "|   24579    |   22383K  | 1.8273972602739725 |  9   |\n",
            "|   24579    |   84879M  | 1.8121827411167513 |  10  |\n",
            "+------------+-----------+--------------------+------+\n",
            "[9720 rows x 4 columns]\n",
            "\n"
          ],
          "name": "stdout"
        }
      ]
    },
    {
      "cell_type": "code",
      "metadata": {
        "id": "QxZ-a4HpxtB0",
        "colab_type": "code",
        "outputId": "0412fa06-067e-4f36-a4e8-f7f314a7fbf0",
        "colab": {
          "base_uri": "https://localhost:8080/",
          "height": 731
        }
      },
      "source": [
        "name = 'popularity'\n",
        "target = 'purchase_dummy'\n",
        "pop_dummy = model(train_data_dummy, name, user_id, item_id, target, users_to_recommend, n_rec, n_display)"
      ],
      "execution_count": 0,
      "outputs": [
        {
          "output_type": "display_data",
          "data": {
            "text/html": [
              "<pre>Warning: Ignoring columns purchase_count;</pre>"
            ],
            "text/plain": [
              "Warning: Ignoring columns purchase_count;"
            ]
          },
          "metadata": {
            "tags": []
          }
        },
        {
          "output_type": "display_data",
          "data": {
            "text/html": [
              "<pre>    To use these columns in scoring predictions, use a model that allows the use of additional features.</pre>"
            ],
            "text/plain": [
              "    To use these columns in scoring predictions, use a model that allows the use of additional features."
            ]
          },
          "metadata": {
            "tags": []
          }
        },
        {
          "output_type": "display_data",
          "data": {
            "text/html": [
              "<pre>Preparing data set.</pre>"
            ],
            "text/plain": [
              "Preparing data set."
            ]
          },
          "metadata": {
            "tags": []
          }
        },
        {
          "output_type": "display_data",
          "data": {
            "text/html": [
              "<pre>    Data has 216824 observations with 971 users and 3757 items.</pre>"
            ],
            "text/plain": [
              "    Data has 216824 observations with 971 users and 3757 items."
            ]
          },
          "metadata": {
            "tags": []
          }
        },
        {
          "output_type": "display_data",
          "data": {
            "text/html": [
              "<pre>    Data prepared in: 0.215681s</pre>"
            ],
            "text/plain": [
              "    Data prepared in: 0.215681s"
            ]
          },
          "metadata": {
            "tags": []
          }
        },
        {
          "output_type": "display_data",
          "data": {
            "text/html": [
              "<pre>216824 observations to process; with 3757 unique items.</pre>"
            ],
            "text/plain": [
              "216824 observations to process; with 3757 unique items."
            ]
          },
          "metadata": {
            "tags": []
          }
        },
        {
          "output_type": "stream",
          "text": [
            "+------------+-----------+-------+------+\n",
            "| CustomerID | productId | score | rank |\n",
            "+------------+-----------+-------+------+\n",
            "|     0      |   23345S  |  1.0  |  1   |\n",
            "|     0      |   23166P  |  1.0  |  2   |\n",
            "|     0      |   85111R  |  1.0  |  3   |\n",
            "|     0      |   22144E  |  1.0  |  4   |\n",
            "|     0      |   22427Q  |  1.0  |  5   |\n",
            "|     0      |   22632O  |  1.0  |  6   |\n",
            "|     0      |   23263V  |  1.0  |  7   |\n",
            "|     0      |   23280V  |  1.0  |  8   |\n",
            "|     0      |   23445C  |  1.0  |  9   |\n",
            "|     0      |   22619G  |  1.0  |  10  |\n",
            "|   32769    |   23166P  |  1.0  |  1   |\n",
            "|   32769    |   85111R  |  1.0  |  2   |\n",
            "|   32769    |   22144E  |  1.0  |  3   |\n",
            "|   32769    |   22427Q  |  1.0  |  4   |\n",
            "|   32769    |   22632O  |  1.0  |  5   |\n",
            "|   32769    |   23263V  |  1.0  |  6   |\n",
            "|   32769    |   23280V  |  1.0  |  7   |\n",
            "|   32769    |   23445C  |  1.0  |  8   |\n",
            "|   32769    |   22135T  |  1.0  |  9   |\n",
            "|   32769    |   22619G  |  1.0  |  10  |\n",
            "|   24579    |   23166P  |  1.0  |  1   |\n",
            "|   24579    |   85111R  |  1.0  |  2   |\n",
            "|   24579    |   22144E  |  1.0  |  3   |\n",
            "|   24579    |   22427Q  |  1.0  |  4   |\n",
            "|   24579    |   22632O  |  1.0  |  5   |\n",
            "|   24579    |   23263V  |  1.0  |  6   |\n",
            "|   24579    |   23280V  |  1.0  |  7   |\n",
            "|   24579    |   23445C  |  1.0  |  8   |\n",
            "|   24579    |   22135T  |  1.0  |  9   |\n",
            "|   24579    |   22619G  |  1.0  |  10  |\n",
            "+------------+-----------+-------+------+\n",
            "[9720 rows x 4 columns]\n",
            "\n"
          ],
          "name": "stdout"
        }
      ]
    },
    {
      "cell_type": "code",
      "metadata": {
        "id": "KCpyRrEszWzU",
        "colab_type": "code",
        "outputId": "e0ce3c4e-435b-43e8-b8e9-cc064ca28e19",
        "colab": {
          "base_uri": "https://localhost:8080/",
          "height": 697
        }
      },
      "source": [
        "name = 'popularity'\n",
        "target = 'scaled_purchase_freq'\n",
        "pop_norm = model(train_data_norm, name, user_id, item_id, target, users_to_recommend, n_rec, n_display)"
      ],
      "execution_count": 0,
      "outputs": [
        {
          "output_type": "display_data",
          "data": {
            "text/html": [
              "<pre>Preparing data set.</pre>"
            ],
            "text/plain": [
              "Preparing data set."
            ]
          },
          "metadata": {
            "tags": []
          }
        },
        {
          "output_type": "display_data",
          "data": {
            "text/html": [
              "<pre>    Data has 205580 observations with 970 users and 2494 items.</pre>"
            ],
            "text/plain": [
              "    Data has 205580 observations with 970 users and 2494 items."
            ]
          },
          "metadata": {
            "tags": []
          }
        },
        {
          "output_type": "display_data",
          "data": {
            "text/html": [
              "<pre>    Data prepared in: 0.221277s</pre>"
            ],
            "text/plain": [
              "    Data prepared in: 0.221277s"
            ]
          },
          "metadata": {
            "tags": []
          }
        },
        {
          "output_type": "display_data",
          "data": {
            "text/html": [
              "<pre>205580 observations to process; with 2494 unique items.</pre>"
            ],
            "text/plain": [
              "205580 observations to process; with 2494 unique items."
            ]
          },
          "metadata": {
            "tags": []
          }
        },
        {
          "output_type": "stream",
          "text": [
            "+------------+-----------+--------------------+------+\n",
            "| CustomerID | productId |       score        | rank |\n",
            "+------------+-----------+--------------------+------+\n",
            "|     0      |   21690A  |        0.5         |  1   |\n",
            "|     0      |   84548X  |        0.5         |  2   |\n",
            "|     0      |   21816Y  |        0.4         |  3   |\n",
            "|     0      |  81950BS  |        0.4         |  4   |\n",
            "|     0      |  90163AR  | 0.3333333333333333 |  5   |\n",
            "|     0      |  90065AP  | 0.3333333333333333 |  6   |\n",
            "|     0      |  72369AK  | 0.3333333333333333 |  7   |\n",
            "|     0      |   21392H  | 0.3333333333333333 |  8   |\n",
            "|     0      |   21692C  | 0.3333333333333333 |  9   |\n",
            "|     0      |  84800SH  | 0.3333333333333333 |  10  |\n",
            "|   32769    |   21690A  |        0.5         |  1   |\n",
            "|   32769    |   84548X  |        0.5         |  2   |\n",
            "|   32769    |   21816Y  |        0.4         |  3   |\n",
            "|   32769    |  81950BS  |        0.4         |  4   |\n",
            "|   32769    |  90163AR  | 0.3333333333333333 |  5   |\n",
            "|   32769    |  90065AP  | 0.3333333333333333 |  6   |\n",
            "|   32769    |  72369AK  | 0.3333333333333333 |  7   |\n",
            "|   32769    |   21392H  | 0.3333333333333333 |  8   |\n",
            "|   32769    |   21692C  | 0.3333333333333333 |  9   |\n",
            "|   32769    |  84800SH  | 0.3333333333333333 |  10  |\n",
            "|   24579    |   21690A  |        0.5         |  1   |\n",
            "|   24579    |   84548X  |        0.5         |  2   |\n",
            "|   24579    |   21816Y  |        0.4         |  3   |\n",
            "|   24579    |  81950BS  |        0.4         |  4   |\n",
            "|   24579    |  90163AR  | 0.3333333333333333 |  5   |\n",
            "|   24579    |  90065AP  | 0.3333333333333333 |  6   |\n",
            "|   24579    |  72369AK  | 0.3333333333333333 |  7   |\n",
            "|   24579    |   21392H  | 0.3333333333333333 |  8   |\n",
            "|   24579    |   21692C  | 0.3333333333333333 |  9   |\n",
            "|   24579    |  84800SH  | 0.3333333333333333 |  10  |\n",
            "+------------+-----------+--------------------+------+\n",
            "[9720 rows x 4 columns]\n",
            "\n"
          ],
          "name": "stdout"
        }
      ]
    },
    {
      "cell_type": "code",
      "metadata": {
        "id": "ovzY7V4gzah3",
        "colab_type": "code",
        "outputId": "b90975b7-9d62-464a-9d0b-67afea2b5921",
        "colab": {
          "base_uri": "https://localhost:8080/",
          "height": 986
        }
      },
      "source": [
        "name = 'cosine'\n",
        "target = 'purchase_count'\n",
        "cos = model(train_data, name, user_id, item_id, target, users_to_recommend, n_rec, n_display)"
      ],
      "execution_count": 0,
      "outputs": [
        {
          "output_type": "display_data",
          "data": {
            "text/html": [
              "<pre>Preparing data set.</pre>"
            ],
            "text/plain": [
              "Preparing data set."
            ]
          },
          "metadata": {
            "tags": []
          }
        },
        {
          "output_type": "display_data",
          "data": {
            "text/html": [
              "<pre>    Data has 216824 observations with 972 users and 3769 items.</pre>"
            ],
            "text/plain": [
              "    Data has 216824 observations with 972 users and 3769 items."
            ]
          },
          "metadata": {
            "tags": []
          }
        },
        {
          "output_type": "display_data",
          "data": {
            "text/html": [
              "<pre>    Data prepared in: 0.238602s</pre>"
            ],
            "text/plain": [
              "    Data prepared in: 0.238602s"
            ]
          },
          "metadata": {
            "tags": []
          }
        },
        {
          "output_type": "display_data",
          "data": {
            "text/html": [
              "<pre>Training model from provided data.</pre>"
            ],
            "text/plain": [
              "Training model from provided data."
            ]
          },
          "metadata": {
            "tags": []
          }
        },
        {
          "output_type": "display_data",
          "data": {
            "text/html": [
              "<pre>Gathering per-item and per-user statistics.</pre>"
            ],
            "text/plain": [
              "Gathering per-item and per-user statistics."
            ]
          },
          "metadata": {
            "tags": []
          }
        },
        {
          "output_type": "display_data",
          "data": {
            "text/html": [
              "<pre>+--------------------------------+------------+</pre>"
            ],
            "text/plain": [
              "+--------------------------------+------------+"
            ]
          },
          "metadata": {
            "tags": []
          }
        },
        {
          "output_type": "display_data",
          "data": {
            "text/html": [
              "<pre>| Elapsed Time (Item Statistics) | % Complete |</pre>"
            ],
            "text/plain": [
              "| Elapsed Time (Item Statistics) | % Complete |"
            ]
          },
          "metadata": {
            "tags": []
          }
        },
        {
          "output_type": "display_data",
          "data": {
            "text/html": [
              "<pre>+--------------------------------+------------+</pre>"
            ],
            "text/plain": [
              "+--------------------------------+------------+"
            ]
          },
          "metadata": {
            "tags": []
          }
        },
        {
          "output_type": "display_data",
          "data": {
            "text/html": [
              "<pre>| 9.024ms                        | 100        |</pre>"
            ],
            "text/plain": [
              "| 9.024ms                        | 100        |"
            ]
          },
          "metadata": {
            "tags": []
          }
        },
        {
          "output_type": "display_data",
          "data": {
            "text/html": [
              "<pre>+--------------------------------+------------+</pre>"
            ],
            "text/plain": [
              "+--------------------------------+------------+"
            ]
          },
          "metadata": {
            "tags": []
          }
        },
        {
          "output_type": "display_data",
          "data": {
            "text/html": [
              "<pre>Setting up lookup tables.</pre>"
            ],
            "text/plain": [
              "Setting up lookup tables."
            ]
          },
          "metadata": {
            "tags": []
          }
        },
        {
          "output_type": "display_data",
          "data": {
            "text/html": [
              "<pre>Processing data in one pass using dense lookup tables.</pre>"
            ],
            "text/plain": [
              "Processing data in one pass using dense lookup tables."
            ]
          },
          "metadata": {
            "tags": []
          }
        },
        {
          "output_type": "display_data",
          "data": {
            "text/html": [
              "<pre>+-------------------------------------+------------------+-----------------+</pre>"
            ],
            "text/plain": [
              "+-------------------------------------+------------------+-----------------+"
            ]
          },
          "metadata": {
            "tags": []
          }
        },
        {
          "output_type": "display_data",
          "data": {
            "text/html": [
              "<pre>| Elapsed Time (Constructing Lookups) | Total % Complete | Items Processed |</pre>"
            ],
            "text/plain": [
              "| Elapsed Time (Constructing Lookups) | Total % Complete | Items Processed |"
            ]
          },
          "metadata": {
            "tags": []
          }
        },
        {
          "output_type": "display_data",
          "data": {
            "text/html": [
              "<pre>+-------------------------------------+------------------+-----------------+</pre>"
            ],
            "text/plain": [
              "+-------------------------------------+------------------+-----------------+"
            ]
          },
          "metadata": {
            "tags": []
          }
        },
        {
          "output_type": "display_data",
          "data": {
            "text/html": [
              "<pre>| 35.287ms                            | 0                | 5               |</pre>"
            ],
            "text/plain": [
              "| 35.287ms                            | 0                | 5               |"
            ]
          },
          "metadata": {
            "tags": []
          }
        },
        {
          "output_type": "display_data",
          "data": {
            "text/html": [
              "<pre>| 797.281ms                           | 100              | 3769            |</pre>"
            ],
            "text/plain": [
              "| 797.281ms                           | 100              | 3769            |"
            ]
          },
          "metadata": {
            "tags": []
          }
        },
        {
          "output_type": "display_data",
          "data": {
            "text/html": [
              "<pre>+-------------------------------------+------------------+-----------------+</pre>"
            ],
            "text/plain": [
              "+-------------------------------------+------------------+-----------------+"
            ]
          },
          "metadata": {
            "tags": []
          }
        },
        {
          "output_type": "display_data",
          "data": {
            "text/html": [
              "<pre>Finalizing lookup tables.</pre>"
            ],
            "text/plain": [
              "Finalizing lookup tables."
            ]
          },
          "metadata": {
            "tags": []
          }
        },
        {
          "output_type": "display_data",
          "data": {
            "text/html": [
              "<pre>Generating candidate set for working with new users.</pre>"
            ],
            "text/plain": [
              "Generating candidate set for working with new users."
            ]
          },
          "metadata": {
            "tags": []
          }
        },
        {
          "output_type": "display_data",
          "data": {
            "text/html": [
              "<pre>Finished training in 1.83726s</pre>"
            ],
            "text/plain": [
              "Finished training in 1.83726s"
            ]
          },
          "metadata": {
            "tags": []
          }
        },
        {
          "output_type": "stream",
          "text": [
            "+------------+-----------+---------------------+------+\n",
            "| CustomerID | productId |        score        | rank |\n",
            "+------------+-----------+---------------------+------+\n",
            "|     0      |  85099BJ  | 0.35181105850286004 |  1   |\n",
            "|     0      |   22697A  |  0.3442507255031335 |  2   |\n",
            "|     0      |   22698C  |  0.3043483741955407 |  3   |\n",
            "|     0      |   22197J  |  0.2891385129519871 |  4   |\n",
            "|     0      |   22960K  |  0.278026434675607  |  5   |\n",
            "|     0      |   22457C  | 0.27010036205232835 |  6   |\n",
            "|     0      |   22384W  | 0.24566093581983942 |  7   |\n",
            "|     0      |   22411U  | 0.24276164231613337 |  8   |\n",
            "|     0      |   20724F  |  0.2297011652968565 |  9   |\n",
            "|     0      |   22699D  |  0.2274866594310893 |  10  |\n",
            "|   32769    |  85099BJ  |  0.300057199719834  |  1   |\n",
            "|   32769    |   22697A  |  0.2889028738622796 |  2   |\n",
            "|   32769    |   22698C  | 0.27968724623118363 |  3   |\n",
            "|   32769    |   22423U  |  0.2598721948388505 |  4   |\n",
            "|   32769    |   22993E  |  0.2548749014122845 |  5   |\n",
            "|   32769    |   22197J  |  0.2484956579665615 |  6   |\n",
            "|   32769    |   20725N  | 0.24782394709652417 |  7   |\n",
            "|   32769    |   22961C  | 0.24216857021802093 |  8   |\n",
            "|   32769    |   21212D  | 0.23160068629539177 |  9   |\n",
            "|   32769    |   22960K  | 0.22907504480179042 |  10  |\n",
            "|   24579    |  85123AY  | 0.18958169221878052 |  1   |\n",
            "|   24579    |   22698C  | 0.18430671521595546 |  2   |\n",
            "|   24579    |   23206T  |  0.1800186378615243 |  3   |\n",
            "|   24579    |   47566Y  | 0.17158647094454085 |  4   |\n",
            "|   24579    |  85099BJ  |  0.165225122656141  |  5   |\n",
            "|   24579    |   22699D  |  0.1562637005533491 |  6   |\n",
            "|   24579    |   22720A  | 0.15513786247798375 |  7   |\n",
            "|   24579    |   22666I  | 0.15331438609531947 |  8   |\n",
            "|   24579    |   22411U  | 0.14882391691207886 |  9   |\n",
            "|   24579    |   23298Q  | 0.14849187646593368 |  10  |\n",
            "+------------+-----------+---------------------+------+\n",
            "[9720 rows x 4 columns]\n",
            "\n"
          ],
          "name": "stdout"
        }
      ]
    },
    {
      "cell_type": "code",
      "metadata": {
        "id": "p4rRWqMK7Rb7",
        "colab_type": "code",
        "outputId": "cb4726ad-e7a6-4f39-f149-44b3822c08b0",
        "colab": {
          "base_uri": "https://localhost:8080/",
          "height": 1020
        }
      },
      "source": [
        "name = 'cosine'\n",
        "target = 'purchase_dummy'\n",
        "cos_dummy = model(train_data_dummy, name, user_id, item_id, target, users_to_recommend, n_rec, n_display)"
      ],
      "execution_count": 0,
      "outputs": [
        {
          "output_type": "display_data",
          "data": {
            "text/html": [
              "<pre>Warning: Ignoring columns purchase_count;</pre>"
            ],
            "text/plain": [
              "Warning: Ignoring columns purchase_count;"
            ]
          },
          "metadata": {
            "tags": []
          }
        },
        {
          "output_type": "display_data",
          "data": {
            "text/html": [
              "<pre>    To use these columns in scoring predictions, use a model that allows the use of additional features.</pre>"
            ],
            "text/plain": [
              "    To use these columns in scoring predictions, use a model that allows the use of additional features."
            ]
          },
          "metadata": {
            "tags": []
          }
        },
        {
          "output_type": "display_data",
          "data": {
            "text/html": [
              "<pre>Preparing data set.</pre>"
            ],
            "text/plain": [
              "Preparing data set."
            ]
          },
          "metadata": {
            "tags": []
          }
        },
        {
          "output_type": "display_data",
          "data": {
            "text/html": [
              "<pre>    Data has 216824 observations with 971 users and 3757 items.</pre>"
            ],
            "text/plain": [
              "    Data has 216824 observations with 971 users and 3757 items."
            ]
          },
          "metadata": {
            "tags": []
          }
        },
        {
          "output_type": "display_data",
          "data": {
            "text/html": [
              "<pre>    Data prepared in: 0.250066s</pre>"
            ],
            "text/plain": [
              "    Data prepared in: 0.250066s"
            ]
          },
          "metadata": {
            "tags": []
          }
        },
        {
          "output_type": "display_data",
          "data": {
            "text/html": [
              "<pre>Training model from provided data.</pre>"
            ],
            "text/plain": [
              "Training model from provided data."
            ]
          },
          "metadata": {
            "tags": []
          }
        },
        {
          "output_type": "display_data",
          "data": {
            "text/html": [
              "<pre>Gathering per-item and per-user statistics.</pre>"
            ],
            "text/plain": [
              "Gathering per-item and per-user statistics."
            ]
          },
          "metadata": {
            "tags": []
          }
        },
        {
          "output_type": "display_data",
          "data": {
            "text/html": [
              "<pre>+--------------------------------+------------+</pre>"
            ],
            "text/plain": [
              "+--------------------------------+------------+"
            ]
          },
          "metadata": {
            "tags": []
          }
        },
        {
          "output_type": "display_data",
          "data": {
            "text/html": [
              "<pre>| Elapsed Time (Item Statistics) | % Complete |</pre>"
            ],
            "text/plain": [
              "| Elapsed Time (Item Statistics) | % Complete |"
            ]
          },
          "metadata": {
            "tags": []
          }
        },
        {
          "output_type": "display_data",
          "data": {
            "text/html": [
              "<pre>+--------------------------------+------------+</pre>"
            ],
            "text/plain": [
              "+--------------------------------+------------+"
            ]
          },
          "metadata": {
            "tags": []
          }
        },
        {
          "output_type": "display_data",
          "data": {
            "text/html": [
              "<pre>| 17.398ms                       | 100        |</pre>"
            ],
            "text/plain": [
              "| 17.398ms                       | 100        |"
            ]
          },
          "metadata": {
            "tags": []
          }
        },
        {
          "output_type": "display_data",
          "data": {
            "text/html": [
              "<pre>+--------------------------------+------------+</pre>"
            ],
            "text/plain": [
              "+--------------------------------+------------+"
            ]
          },
          "metadata": {
            "tags": []
          }
        },
        {
          "output_type": "display_data",
          "data": {
            "text/html": [
              "<pre>Setting up lookup tables.</pre>"
            ],
            "text/plain": [
              "Setting up lookup tables."
            ]
          },
          "metadata": {
            "tags": []
          }
        },
        {
          "output_type": "display_data",
          "data": {
            "text/html": [
              "<pre>Processing data in one pass using dense lookup tables.</pre>"
            ],
            "text/plain": [
              "Processing data in one pass using dense lookup tables."
            ]
          },
          "metadata": {
            "tags": []
          }
        },
        {
          "output_type": "display_data",
          "data": {
            "text/html": [
              "<pre>+-------------------------------------+------------------+-----------------+</pre>"
            ],
            "text/plain": [
              "+-------------------------------------+------------------+-----------------+"
            ]
          },
          "metadata": {
            "tags": []
          }
        },
        {
          "output_type": "display_data",
          "data": {
            "text/html": [
              "<pre>| Elapsed Time (Constructing Lookups) | Total % Complete | Items Processed |</pre>"
            ],
            "text/plain": [
              "| Elapsed Time (Constructing Lookups) | Total % Complete | Items Processed |"
            ]
          },
          "metadata": {
            "tags": []
          }
        },
        {
          "output_type": "display_data",
          "data": {
            "text/html": [
              "<pre>+-------------------------------------+------------------+-----------------+</pre>"
            ],
            "text/plain": [
              "+-------------------------------------+------------------+-----------------+"
            ]
          },
          "metadata": {
            "tags": []
          }
        },
        {
          "output_type": "display_data",
          "data": {
            "text/html": [
              "<pre>| 51.383ms                            | 0                | 3               |</pre>"
            ],
            "text/plain": [
              "| 51.383ms                            | 0                | 3               |"
            ]
          },
          "metadata": {
            "tags": []
          }
        },
        {
          "output_type": "display_data",
          "data": {
            "text/html": [
              "<pre>| 814.062ms                           | 100              | 3757            |</pre>"
            ],
            "text/plain": [
              "| 814.062ms                           | 100              | 3757            |"
            ]
          },
          "metadata": {
            "tags": []
          }
        },
        {
          "output_type": "display_data",
          "data": {
            "text/html": [
              "<pre>+-------------------------------------+------------------+-----------------+</pre>"
            ],
            "text/plain": [
              "+-------------------------------------+------------------+-----------------+"
            ]
          },
          "metadata": {
            "tags": []
          }
        },
        {
          "output_type": "display_data",
          "data": {
            "text/html": [
              "<pre>Finalizing lookup tables.</pre>"
            ],
            "text/plain": [
              "Finalizing lookup tables."
            ]
          },
          "metadata": {
            "tags": []
          }
        },
        {
          "output_type": "display_data",
          "data": {
            "text/html": [
              "<pre>Generating candidate set for working with new users.</pre>"
            ],
            "text/plain": [
              "Generating candidate set for working with new users."
            ]
          },
          "metadata": {
            "tags": []
          }
        },
        {
          "output_type": "display_data",
          "data": {
            "text/html": [
              "<pre>Finished training in 0.847996s</pre>"
            ],
            "text/plain": [
              "Finished training in 0.847996s"
            ]
          },
          "metadata": {
            "tags": []
          }
        },
        {
          "output_type": "stream",
          "text": [
            "+------------+-----------+---------------------+------+\n",
            "| CustomerID | productId |        score        | rank |\n",
            "+------------+-----------+---------------------+------+\n",
            "|     0      |  85099BJ  |  0.2817227173207411 |  1   |\n",
            "|     0      |   21212D  |  0.2666340608205368 |  2   |\n",
            "|     0      |   22666I  |  0.2551191880631803 |  3   |\n",
            "|     0      |  85123AY  |  0.2549898875738258 |  4   |\n",
            "|     0      |   22961C  | 0.24113619038418158 |  5   |\n",
            "|     0      |   21931F  | 0.23755754085619057 |  6   |\n",
            "|     0      |   20724F  | 0.22411387691746898 |  7   |\n",
            "|     0      |   22411U  | 0.22037610789733147 |  8   |\n",
            "|     0      |   22197J  | 0.21948742332743176 |  9   |\n",
            "|     0      |   22697A  | 0.21802683530458764 |  10  |\n",
            "|   32769    |  85099BJ  |  0.3121627668539683 |  1   |\n",
            "|   32769    |   22423U  | 0.30961647858986485 |  2   |\n",
            "|   32769    |   21212D  |  0.2958217049256349 |  3   |\n",
            "|   32769    |   22961C  | 0.28088530057515854 |  4   |\n",
            "|   32769    |   23209X  |  0.2776714379970844 |  5   |\n",
            "|   32769    |   22197J  |  0.274001684708473  |  6   |\n",
            "|   32769    |   22178V  |  0.2681278334214137 |  7   |\n",
            "|   32769    |   22720A  |  0.2647098318124429 |  8   |\n",
            "|   32769    |   22469S  |  0.2622137703956702 |  9   |\n",
            "|   32769    |   20728Z  |  0.2562575836976369 |  10  |\n",
            "|   24579    |   23209X  |  0.2096085026860237 |  1   |\n",
            "|   24579    |   22666I  | 0.20672380179166794 |  2   |\n",
            "|   24579    |  85123AY  |  0.2038957178592682 |  3   |\n",
            "|   24579    |   22457C  |  0.2006174772977829 |  4   |\n",
            "|   24579    |  85099BJ  |  0.1878846511244774 |  5   |\n",
            "|   24579    |   22423U  | 0.18738742917776108 |  6   |\n",
            "|   24579    |   47566Y  |  0.1772526577115059 |  7   |\n",
            "|   24579    |   21212D  |  0.1770671233534813 |  8   |\n",
            "|   24579    |   22382I  | 0.17400183528661728 |  9   |\n",
            "|   24579    |   22086O  |  0.170058473944664  |  10  |\n",
            "+------------+-----------+---------------------+------+\n",
            "[9720 rows x 4 columns]\n",
            "\n"
          ],
          "name": "stdout"
        }
      ]
    },
    {
      "cell_type": "code",
      "metadata": {
        "id": "YnLULSa68DPE",
        "colab_type": "code",
        "outputId": "e3a5e106-f23d-4a59-8954-ff4b5515bede",
        "colab": {
          "base_uri": "https://localhost:8080/",
          "height": 986
        }
      },
      "source": [
        "name = 'cosine' \n",
        "target = 'scaled_purchase_freq' \n",
        "cos_norm = model(train_data_norm, name, user_id, item_id, target, users_to_recommend, n_rec, n_display)"
      ],
      "execution_count": 0,
      "outputs": [
        {
          "output_type": "display_data",
          "data": {
            "text/html": [
              "<pre>Preparing data set.</pre>"
            ],
            "text/plain": [
              "Preparing data set."
            ]
          },
          "metadata": {
            "tags": []
          }
        },
        {
          "output_type": "display_data",
          "data": {
            "text/html": [
              "<pre>    Data has 205580 observations with 970 users and 2494 items.</pre>"
            ],
            "text/plain": [
              "    Data has 205580 observations with 970 users and 2494 items."
            ]
          },
          "metadata": {
            "tags": []
          }
        },
        {
          "output_type": "display_data",
          "data": {
            "text/html": [
              "<pre>    Data prepared in: 0.232515s</pre>"
            ],
            "text/plain": [
              "    Data prepared in: 0.232515s"
            ]
          },
          "metadata": {
            "tags": []
          }
        },
        {
          "output_type": "display_data",
          "data": {
            "text/html": [
              "<pre>Training model from provided data.</pre>"
            ],
            "text/plain": [
              "Training model from provided data."
            ]
          },
          "metadata": {
            "tags": []
          }
        },
        {
          "output_type": "display_data",
          "data": {
            "text/html": [
              "<pre>Gathering per-item and per-user statistics.</pre>"
            ],
            "text/plain": [
              "Gathering per-item and per-user statistics."
            ]
          },
          "metadata": {
            "tags": []
          }
        },
        {
          "output_type": "display_data",
          "data": {
            "text/html": [
              "<pre>+--------------------------------+------------+</pre>"
            ],
            "text/plain": [
              "+--------------------------------+------------+"
            ]
          },
          "metadata": {
            "tags": []
          }
        },
        {
          "output_type": "display_data",
          "data": {
            "text/html": [
              "<pre>| Elapsed Time (Item Statistics) | % Complete |</pre>"
            ],
            "text/plain": [
              "| Elapsed Time (Item Statistics) | % Complete |"
            ]
          },
          "metadata": {
            "tags": []
          }
        },
        {
          "output_type": "display_data",
          "data": {
            "text/html": [
              "<pre>+--------------------------------+------------+</pre>"
            ],
            "text/plain": [
              "+--------------------------------+------------+"
            ]
          },
          "metadata": {
            "tags": []
          }
        },
        {
          "output_type": "display_data",
          "data": {
            "text/html": [
              "<pre>| 17.92ms                        | 100        |</pre>"
            ],
            "text/plain": [
              "| 17.92ms                        | 100        |"
            ]
          },
          "metadata": {
            "tags": []
          }
        },
        {
          "output_type": "display_data",
          "data": {
            "text/html": [
              "<pre>+--------------------------------+------------+</pre>"
            ],
            "text/plain": [
              "+--------------------------------+------------+"
            ]
          },
          "metadata": {
            "tags": []
          }
        },
        {
          "output_type": "display_data",
          "data": {
            "text/html": [
              "<pre>Setting up lookup tables.</pre>"
            ],
            "text/plain": [
              "Setting up lookup tables."
            ]
          },
          "metadata": {
            "tags": []
          }
        },
        {
          "output_type": "display_data",
          "data": {
            "text/html": [
              "<pre>Processing data in one pass using dense lookup tables.</pre>"
            ],
            "text/plain": [
              "Processing data in one pass using dense lookup tables."
            ]
          },
          "metadata": {
            "tags": []
          }
        },
        {
          "output_type": "display_data",
          "data": {
            "text/html": [
              "<pre>+-------------------------------------+------------------+-----------------+</pre>"
            ],
            "text/plain": [
              "+-------------------------------------+------------------+-----------------+"
            ]
          },
          "metadata": {
            "tags": []
          }
        },
        {
          "output_type": "display_data",
          "data": {
            "text/html": [
              "<pre>| Elapsed Time (Constructing Lookups) | Total % Complete | Items Processed |</pre>"
            ],
            "text/plain": [
              "| Elapsed Time (Constructing Lookups) | Total % Complete | Items Processed |"
            ]
          },
          "metadata": {
            "tags": []
          }
        },
        {
          "output_type": "display_data",
          "data": {
            "text/html": [
              "<pre>+-------------------------------------+------------------+-----------------+</pre>"
            ],
            "text/plain": [
              "+-------------------------------------+------------------+-----------------+"
            ]
          },
          "metadata": {
            "tags": []
          }
        },
        {
          "output_type": "display_data",
          "data": {
            "text/html": [
              "<pre>| 26.929ms                            | 0                | 0               |</pre>"
            ],
            "text/plain": [
              "| 26.929ms                            | 0                | 0               |"
            ]
          },
          "metadata": {
            "tags": []
          }
        },
        {
          "output_type": "display_data",
          "data": {
            "text/html": [
              "<pre>| 427.385ms                           | 100              | 2494            |</pre>"
            ],
            "text/plain": [
              "| 427.385ms                           | 100              | 2494            |"
            ]
          },
          "metadata": {
            "tags": []
          }
        },
        {
          "output_type": "display_data",
          "data": {
            "text/html": [
              "<pre>+-------------------------------------+------------------+-----------------+</pre>"
            ],
            "text/plain": [
              "+-------------------------------------+------------------+-----------------+"
            ]
          },
          "metadata": {
            "tags": []
          }
        },
        {
          "output_type": "display_data",
          "data": {
            "text/html": [
              "<pre>Finalizing lookup tables.</pre>"
            ],
            "text/plain": [
              "Finalizing lookup tables."
            ]
          },
          "metadata": {
            "tags": []
          }
        },
        {
          "output_type": "display_data",
          "data": {
            "text/html": [
              "<pre>Generating candidate set for working with new users.</pre>"
            ],
            "text/plain": [
              "Generating candidate set for working with new users."
            ]
          },
          "metadata": {
            "tags": []
          }
        },
        {
          "output_type": "display_data",
          "data": {
            "text/html": [
              "<pre>Finished training in 0.45378s</pre>"
            ],
            "text/plain": [
              "Finished training in 0.45378s"
            ]
          },
          "metadata": {
            "tags": []
          }
        },
        {
          "output_type": "stream",
          "text": [
            "+------------+-----------+-----------------------+------+\n",
            "| CustomerID | productId |         score         | rank |\n",
            "+------------+-----------+-----------------------+------+\n",
            "|     0      |  85099BJ  |  0.008018909036651138 |  1   |\n",
            "|     0      |   22197J  | 0.0071691755176514615 |  2   |\n",
            "|     0      |   21212D  | 0.0070126444794410886 |  3   |\n",
            "|     0      |   84879M  |  0.005604107481564662 |  4   |\n",
            "|     0      |   22411U  | 0.0055282647295515665 |  5   |\n",
            "|     0      |   22355U  |  0.005500907583754192 |  6   |\n",
            "|     0      |   22457C  |  0.005329735519350037 |  7   |\n",
            "|     0      |   20724F  |  0.005264455264852952 |  8   |\n",
            "|     0      |   23298Q  |  0.00513896900554036  |  9   |\n",
            "|     0      |   22666I  |  0.004871608906014021 |  10  |\n",
            "|   32769    |   20616Z  |  0.007198045128270199 |  1   |\n",
            "|   32769    |  84251GR  |  0.006233690600646169 |  2   |\n",
            "|   32769    |   23539T  |  0.006233690600646169 |  3   |\n",
            "|   32769    |   22583A  |  0.006233690600646169 |  4   |\n",
            "|   32769    |  72351AA  |  0.006090921790976273 |  5   |\n",
            "|   32769    |   22891F  |  0.00548874861315677  |  6   |\n",
            "|   32769    |   21627N  |  0.00537168822790447  |  7   |\n",
            "|   32769    |   22684V  |  0.00537168822790447  |  8   |\n",
            "|   32769    |  85170CO  |  0.00537168822790447  |  9   |\n",
            "|   32769    |   22543G  |  0.00537168822790447  |  10  |\n",
            "|   24579    |   22910D  |          0.0          |  1   |\n",
            "|   24579    |   22945X  |          0.0          |  2   |\n",
            "|   24579    |   22904F  |          0.0          |  3   |\n",
            "|   24579    |   22149E  |          0.0          |  4   |\n",
            "|   24579    |   47566Y  |          0.0          |  5   |\n",
            "|   24579    |   22748P  |          0.0          |  6   |\n",
            "|   24579    |   22902M  |          0.0          |  7   |\n",
            "|   24579    |   21915K  |          0.0          |  8   |\n",
            "|   24579    |   22771L  |          0.0          |  9   |\n",
            "|   24579    |   22424F  |          0.0          |  10  |\n",
            "+------------+-----------+-----------------------+------+\n",
            "[9720 rows x 4 columns]\n",
            "\n"
          ],
          "name": "stdout"
        }
      ]
    },
    {
      "cell_type": "code",
      "metadata": {
        "id": "5a5uU8_V8Lp2",
        "colab_type": "code",
        "outputId": "f4423cab-5d2c-4859-823f-c97da3fd7632",
        "colab": {
          "base_uri": "https://localhost:8080/",
          "height": 986
        }
      },
      "source": [
        "name = 'pearson'\n",
        "target = 'purchase_count'\n",
        "pear = model(train_data, name, user_id, item_id, target, users_to_recommend, n_rec, n_display)"
      ],
      "execution_count": 0,
      "outputs": [
        {
          "output_type": "display_data",
          "data": {
            "text/html": [
              "<pre>Preparing data set.</pre>"
            ],
            "text/plain": [
              "Preparing data set."
            ]
          },
          "metadata": {
            "tags": []
          }
        },
        {
          "output_type": "display_data",
          "data": {
            "text/html": [
              "<pre>    Data has 216824 observations with 972 users and 3769 items.</pre>"
            ],
            "text/plain": [
              "    Data has 216824 observations with 972 users and 3769 items."
            ]
          },
          "metadata": {
            "tags": []
          }
        },
        {
          "output_type": "display_data",
          "data": {
            "text/html": [
              "<pre>    Data prepared in: 0.221357s</pre>"
            ],
            "text/plain": [
              "    Data prepared in: 0.221357s"
            ]
          },
          "metadata": {
            "tags": []
          }
        },
        {
          "output_type": "display_data",
          "data": {
            "text/html": [
              "<pre>Training model from provided data.</pre>"
            ],
            "text/plain": [
              "Training model from provided data."
            ]
          },
          "metadata": {
            "tags": []
          }
        },
        {
          "output_type": "display_data",
          "data": {
            "text/html": [
              "<pre>Gathering per-item and per-user statistics.</pre>"
            ],
            "text/plain": [
              "Gathering per-item and per-user statistics."
            ]
          },
          "metadata": {
            "tags": []
          }
        },
        {
          "output_type": "display_data",
          "data": {
            "text/html": [
              "<pre>+--------------------------------+------------+</pre>"
            ],
            "text/plain": [
              "+--------------------------------+------------+"
            ]
          },
          "metadata": {
            "tags": []
          }
        },
        {
          "output_type": "display_data",
          "data": {
            "text/html": [
              "<pre>| Elapsed Time (Item Statistics) | % Complete |</pre>"
            ],
            "text/plain": [
              "| Elapsed Time (Item Statistics) | % Complete |"
            ]
          },
          "metadata": {
            "tags": []
          }
        },
        {
          "output_type": "display_data",
          "data": {
            "text/html": [
              "<pre>+--------------------------------+------------+</pre>"
            ],
            "text/plain": [
              "+--------------------------------+------------+"
            ]
          },
          "metadata": {
            "tags": []
          }
        },
        {
          "output_type": "display_data",
          "data": {
            "text/html": [
              "<pre>| 25.183ms                       | 100        |</pre>"
            ],
            "text/plain": [
              "| 25.183ms                       | 100        |"
            ]
          },
          "metadata": {
            "tags": []
          }
        },
        {
          "output_type": "display_data",
          "data": {
            "text/html": [
              "<pre>+--------------------------------+------------+</pre>"
            ],
            "text/plain": [
              "+--------------------------------+------------+"
            ]
          },
          "metadata": {
            "tags": []
          }
        },
        {
          "output_type": "display_data",
          "data": {
            "text/html": [
              "<pre>Setting up lookup tables.</pre>"
            ],
            "text/plain": [
              "Setting up lookup tables."
            ]
          },
          "metadata": {
            "tags": []
          }
        },
        {
          "output_type": "display_data",
          "data": {
            "text/html": [
              "<pre>Processing data in one pass using dense lookup tables.</pre>"
            ],
            "text/plain": [
              "Processing data in one pass using dense lookup tables."
            ]
          },
          "metadata": {
            "tags": []
          }
        },
        {
          "output_type": "display_data",
          "data": {
            "text/html": [
              "<pre>+-------------------------------------+------------------+-----------------+</pre>"
            ],
            "text/plain": [
              "+-------------------------------------+------------------+-----------------+"
            ]
          },
          "metadata": {
            "tags": []
          }
        },
        {
          "output_type": "display_data",
          "data": {
            "text/html": [
              "<pre>| Elapsed Time (Constructing Lookups) | Total % Complete | Items Processed |</pre>"
            ],
            "text/plain": [
              "| Elapsed Time (Constructing Lookups) | Total % Complete | Items Processed |"
            ]
          },
          "metadata": {
            "tags": []
          }
        },
        {
          "output_type": "display_data",
          "data": {
            "text/html": [
              "<pre>+-------------------------------------+------------------+-----------------+</pre>"
            ],
            "text/plain": [
              "+-------------------------------------+------------------+-----------------+"
            ]
          },
          "metadata": {
            "tags": []
          }
        },
        {
          "output_type": "display_data",
          "data": {
            "text/html": [
              "<pre>| 49.471ms                            | 0                | 5               |</pre>"
            ],
            "text/plain": [
              "| 49.471ms                            | 0                | 5               |"
            ]
          },
          "metadata": {
            "tags": []
          }
        },
        {
          "output_type": "display_data",
          "data": {
            "text/html": [
              "<pre>| 2.32s                               | 100              | 3769            |</pre>"
            ],
            "text/plain": [
              "| 2.32s                               | 100              | 3769            |"
            ]
          },
          "metadata": {
            "tags": []
          }
        },
        {
          "output_type": "display_data",
          "data": {
            "text/html": [
              "<pre>+-------------------------------------+------------------+-----------------+</pre>"
            ],
            "text/plain": [
              "+-------------------------------------+------------------+-----------------+"
            ]
          },
          "metadata": {
            "tags": []
          }
        },
        {
          "output_type": "display_data",
          "data": {
            "text/html": [
              "<pre>Finalizing lookup tables.</pre>"
            ],
            "text/plain": [
              "Finalizing lookup tables."
            ]
          },
          "metadata": {
            "tags": []
          }
        },
        {
          "output_type": "display_data",
          "data": {
            "text/html": [
              "<pre>Generating candidate set for working with new users.</pre>"
            ],
            "text/plain": [
              "Generating candidate set for working with new users."
            ]
          },
          "metadata": {
            "tags": []
          }
        },
        {
          "output_type": "display_data",
          "data": {
            "text/html": [
              "<pre>Finished training in 2.35023s</pre>"
            ],
            "text/plain": [
              "Finished training in 2.35023s"
            ]
          },
          "metadata": {
            "tags": []
          }
        },
        {
          "output_type": "stream",
          "text": [
            "+------------+-----------+--------------------+------+\n",
            "| CustomerID | productId |       score        | rank |\n",
            "+------------+-----------+--------------------+------+\n",
            "|     0      |  85099BJ  | 2.252705102314537  |  1   |\n",
            "|     0      |  81953BF  |        2.0         |  2   |\n",
            "|     0      |   22197J  | 1.8469323615835833 |  3   |\n",
            "|     0      |   84879M  | 1.8119087774573235 |  4   |\n",
            "|     0      |   23442T  | 1.8005689640763183 |  5   |\n",
            "|     0      |   22386V  | 1.7794132025545624 |  6   |\n",
            "|     0      |  90199CA  | 1.7496431115511302 |  7   |\n",
            "|     0      |   22960K  | 1.7341399700138653 |  8   |\n",
            "|     0      |   23298Q  | 1.7248661666350815 |  9   |\n",
            "|     0      |   22457C  | 1.7227597444775153 |  10  |\n",
            "|   32769    |   22423U  | 2.319864990286276  |  1   |\n",
            "|   32769    |  85099BJ  | 2.239458643646258  |  2   |\n",
            "|   32769    |   20725N  | 2.027221008241879  |  3   |\n",
            "|   32769    |   47566Y  | 2.0021570953298324 |  4   |\n",
            "|   32769    |  81953BF  |        2.0         |  5   |\n",
            "|   32769    |   22197J  | 1.8387808535130354 |  6   |\n",
            "|   32769    |   22720A  | 1.8300199894398657 |  7   |\n",
            "|   32769    |   22383K  | 1.8170166655762559 |  8   |\n",
            "|   32769    |   84879M  | 1.8094204904124418 |  9   |\n",
            "|   32769    |   21212D  | 1.7997246789760182 |  10  |\n",
            "|   24579    |  85123AY  | 2.3652667942738286 |  1   |\n",
            "|   24579    |   22423U  | 2.3326133909287234 |  2   |\n",
            "|   24579    |  85099BJ  |  2.24346762417614  |  3   |\n",
            "|   24579    |   20725N  | 2.024371738955352  |  4   |\n",
            "|   24579    |   47566Y  | 2.0079757342293876 |  5   |\n",
            "|   24579    |  81953BF  |        2.0         |  6   |\n",
            "|   24579    |   22197J  | 1.8516491201459144 |  7   |\n",
            "|   24579    |   22720A  | 1.8419753086419752 |  8   |\n",
            "|   24579    |   22383K  | 1.827397260273973  |  9   |\n",
            "|   24579    |   84879M  | 1.8109848239959527 |  10  |\n",
            "+------------+-----------+--------------------+------+\n",
            "[9720 rows x 4 columns]\n",
            "\n"
          ],
          "name": "stdout"
        }
      ]
    },
    {
      "cell_type": "code",
      "metadata": {
        "id": "FBLPYRXy8PdZ",
        "colab_type": "code",
        "outputId": "d48de568-e31c-4c8d-a02a-810aeab677ed",
        "colab": {
          "base_uri": "https://localhost:8080/",
          "height": 1020
        }
      },
      "source": [
        "name = 'pearson'\n",
        "target = 'purchase_dummy'\n",
        "pear_dummy = model(train_data_dummy, name, user_id, item_id, target, users_to_recommend, n_rec, n_display)"
      ],
      "execution_count": 0,
      "outputs": [
        {
          "output_type": "display_data",
          "data": {
            "text/html": [
              "<pre>Warning: Ignoring columns purchase_count;</pre>"
            ],
            "text/plain": [
              "Warning: Ignoring columns purchase_count;"
            ]
          },
          "metadata": {
            "tags": []
          }
        },
        {
          "output_type": "display_data",
          "data": {
            "text/html": [
              "<pre>    To use these columns in scoring predictions, use a model that allows the use of additional features.</pre>"
            ],
            "text/plain": [
              "    To use these columns in scoring predictions, use a model that allows the use of additional features."
            ]
          },
          "metadata": {
            "tags": []
          }
        },
        {
          "output_type": "display_data",
          "data": {
            "text/html": [
              "<pre>Preparing data set.</pre>"
            ],
            "text/plain": [
              "Preparing data set."
            ]
          },
          "metadata": {
            "tags": []
          }
        },
        {
          "output_type": "display_data",
          "data": {
            "text/html": [
              "<pre>    Data has 216824 observations with 971 users and 3757 items.</pre>"
            ],
            "text/plain": [
              "    Data has 216824 observations with 971 users and 3757 items."
            ]
          },
          "metadata": {
            "tags": []
          }
        },
        {
          "output_type": "display_data",
          "data": {
            "text/html": [
              "<pre>    Data prepared in: 0.216084s</pre>"
            ],
            "text/plain": [
              "    Data prepared in: 0.216084s"
            ]
          },
          "metadata": {
            "tags": []
          }
        },
        {
          "output_type": "display_data",
          "data": {
            "text/html": [
              "<pre>Training model from provided data.</pre>"
            ],
            "text/plain": [
              "Training model from provided data."
            ]
          },
          "metadata": {
            "tags": []
          }
        },
        {
          "output_type": "display_data",
          "data": {
            "text/html": [
              "<pre>Gathering per-item and per-user statistics.</pre>"
            ],
            "text/plain": [
              "Gathering per-item and per-user statistics."
            ]
          },
          "metadata": {
            "tags": []
          }
        },
        {
          "output_type": "display_data",
          "data": {
            "text/html": [
              "<pre>+--------------------------------+------------+</pre>"
            ],
            "text/plain": [
              "+--------------------------------+------------+"
            ]
          },
          "metadata": {
            "tags": []
          }
        },
        {
          "output_type": "display_data",
          "data": {
            "text/html": [
              "<pre>| Elapsed Time (Item Statistics) | % Complete |</pre>"
            ],
            "text/plain": [
              "| Elapsed Time (Item Statistics) | % Complete |"
            ]
          },
          "metadata": {
            "tags": []
          }
        },
        {
          "output_type": "display_data",
          "data": {
            "text/html": [
              "<pre>+--------------------------------+------------+</pre>"
            ],
            "text/plain": [
              "+--------------------------------+------------+"
            ]
          },
          "metadata": {
            "tags": []
          }
        },
        {
          "output_type": "display_data",
          "data": {
            "text/html": [
              "<pre>| 23.987ms                       | 100        |</pre>"
            ],
            "text/plain": [
              "| 23.987ms                       | 100        |"
            ]
          },
          "metadata": {
            "tags": []
          }
        },
        {
          "output_type": "display_data",
          "data": {
            "text/html": [
              "<pre>+--------------------------------+------------+</pre>"
            ],
            "text/plain": [
              "+--------------------------------+------------+"
            ]
          },
          "metadata": {
            "tags": []
          }
        },
        {
          "output_type": "display_data",
          "data": {
            "text/html": [
              "<pre>Setting up lookup tables.</pre>"
            ],
            "text/plain": [
              "Setting up lookup tables."
            ]
          },
          "metadata": {
            "tags": []
          }
        },
        {
          "output_type": "display_data",
          "data": {
            "text/html": [
              "<pre>Processing data in one pass using dense lookup tables.</pre>"
            ],
            "text/plain": [
              "Processing data in one pass using dense lookup tables."
            ]
          },
          "metadata": {
            "tags": []
          }
        },
        {
          "output_type": "display_data",
          "data": {
            "text/html": [
              "<pre>+-------------------------------------+------------------+-----------------+</pre>"
            ],
            "text/plain": [
              "+-------------------------------------+------------------+-----------------+"
            ]
          },
          "metadata": {
            "tags": []
          }
        },
        {
          "output_type": "display_data",
          "data": {
            "text/html": [
              "<pre>| Elapsed Time (Constructing Lookups) | Total % Complete | Items Processed |</pre>"
            ],
            "text/plain": [
              "| Elapsed Time (Constructing Lookups) | Total % Complete | Items Processed |"
            ]
          },
          "metadata": {
            "tags": []
          }
        },
        {
          "output_type": "display_data",
          "data": {
            "text/html": [
              "<pre>+-------------------------------------+------------------+-----------------+</pre>"
            ],
            "text/plain": [
              "+-------------------------------------+------------------+-----------------+"
            ]
          },
          "metadata": {
            "tags": []
          }
        },
        {
          "output_type": "display_data",
          "data": {
            "text/html": [
              "<pre>| 46.565ms                            | 0                | 3               |</pre>"
            ],
            "text/plain": [
              "| 46.565ms                            | 0                | 3               |"
            ]
          },
          "metadata": {
            "tags": []
          }
        },
        {
          "output_type": "display_data",
          "data": {
            "text/html": [
              "<pre>| 1.11s                               | 100              | 3757            |</pre>"
            ],
            "text/plain": [
              "| 1.11s                               | 100              | 3757            |"
            ]
          },
          "metadata": {
            "tags": []
          }
        },
        {
          "output_type": "display_data",
          "data": {
            "text/html": [
              "<pre>+-------------------------------------+------------------+-----------------+</pre>"
            ],
            "text/plain": [
              "+-------------------------------------+------------------+-----------------+"
            ]
          },
          "metadata": {
            "tags": []
          }
        },
        {
          "output_type": "display_data",
          "data": {
            "text/html": [
              "<pre>Finalizing lookup tables.</pre>"
            ],
            "text/plain": [
              "Finalizing lookup tables."
            ]
          },
          "metadata": {
            "tags": []
          }
        },
        {
          "output_type": "display_data",
          "data": {
            "text/html": [
              "<pre>Generating candidate set for working with new users.</pre>"
            ],
            "text/plain": [
              "Generating candidate set for working with new users."
            ]
          },
          "metadata": {
            "tags": []
          }
        },
        {
          "output_type": "display_data",
          "data": {
            "text/html": [
              "<pre>Finished training in 1.14314s</pre>"
            ],
            "text/plain": [
              "Finished training in 1.14314s"
            ]
          },
          "metadata": {
            "tags": []
          }
        },
        {
          "output_type": "stream",
          "text": [
            "+------------+-----------+-------+------+\n",
            "| CustomerID | productId | score | rank |\n",
            "+------------+-----------+-------+------+\n",
            "|     0      |   23345S  |  0.0  |  1   |\n",
            "|     0      |   23166P  |  0.0  |  2   |\n",
            "|     0      |   85111R  |  0.0  |  3   |\n",
            "|     0      |   22144E  |  0.0  |  4   |\n",
            "|     0      |   22427Q  |  0.0  |  5   |\n",
            "|     0      |   22632O  |  0.0  |  6   |\n",
            "|     0      |   23263V  |  0.0  |  7   |\n",
            "|     0      |   23280V  |  0.0  |  8   |\n",
            "|     0      |   23445C  |  0.0  |  9   |\n",
            "|     0      |   22619G  |  0.0  |  10  |\n",
            "|   32769    |   23166P  |  0.0  |  1   |\n",
            "|   32769    |   85111R  |  0.0  |  2   |\n",
            "|   32769    |   22144E  |  0.0  |  3   |\n",
            "|   32769    |   22427Q  |  0.0  |  4   |\n",
            "|   32769    |   22632O  |  0.0  |  5   |\n",
            "|   32769    |   23263V  |  0.0  |  6   |\n",
            "|   32769    |   23280V  |  0.0  |  7   |\n",
            "|   32769    |   23445C  |  0.0  |  8   |\n",
            "|   32769    |   22135T  |  0.0  |  9   |\n",
            "|   32769    |   22619G  |  0.0  |  10  |\n",
            "|   24579    |   23166P  |  0.0  |  1   |\n",
            "|   24579    |   85111R  |  0.0  |  2   |\n",
            "|   24579    |   22144E  |  0.0  |  3   |\n",
            "|   24579    |   22427Q  |  0.0  |  4   |\n",
            "|   24579    |   22632O  |  0.0  |  5   |\n",
            "|   24579    |   23263V  |  0.0  |  6   |\n",
            "|   24579    |   23280V  |  0.0  |  7   |\n",
            "|   24579    |   23445C  |  0.0  |  8   |\n",
            "|   24579    |   22135T  |  0.0  |  9   |\n",
            "|   24579    |   22619G  |  0.0  |  10  |\n",
            "+------------+-----------+-------+------+\n",
            "[9720 rows x 4 columns]\n",
            "\n"
          ],
          "name": "stdout"
        }
      ]
    },
    {
      "cell_type": "code",
      "metadata": {
        "id": "51RenQbz8SGV",
        "colab_type": "code",
        "outputId": "c37a1bae-b1ad-4ca6-f660-643dd72b16a8",
        "colab": {
          "base_uri": "https://localhost:8080/",
          "height": 986
        }
      },
      "source": [
        "name = 'pearson'\n",
        "target = 'scaled_purchase_freq'\n",
        "pear_norm = model(train_data_norm, name, user_id, item_id, target, users_to_recommend, n_rec, n_display)\n"
      ],
      "execution_count": 0,
      "outputs": [
        {
          "output_type": "display_data",
          "data": {
            "text/html": [
              "<pre>Preparing data set.</pre>"
            ],
            "text/plain": [
              "Preparing data set."
            ]
          },
          "metadata": {
            "tags": []
          }
        },
        {
          "output_type": "display_data",
          "data": {
            "text/html": [
              "<pre>    Data has 205580 observations with 970 users and 2494 items.</pre>"
            ],
            "text/plain": [
              "    Data has 205580 observations with 970 users and 2494 items."
            ]
          },
          "metadata": {
            "tags": []
          }
        },
        {
          "output_type": "display_data",
          "data": {
            "text/html": [
              "<pre>    Data prepared in: 0.212656s</pre>"
            ],
            "text/plain": [
              "    Data prepared in: 0.212656s"
            ]
          },
          "metadata": {
            "tags": []
          }
        },
        {
          "output_type": "display_data",
          "data": {
            "text/html": [
              "<pre>Training model from provided data.</pre>"
            ],
            "text/plain": [
              "Training model from provided data."
            ]
          },
          "metadata": {
            "tags": []
          }
        },
        {
          "output_type": "display_data",
          "data": {
            "text/html": [
              "<pre>Gathering per-item and per-user statistics.</pre>"
            ],
            "text/plain": [
              "Gathering per-item and per-user statistics."
            ]
          },
          "metadata": {
            "tags": []
          }
        },
        {
          "output_type": "display_data",
          "data": {
            "text/html": [
              "<pre>+--------------------------------+------------+</pre>"
            ],
            "text/plain": [
              "+--------------------------------+------------+"
            ]
          },
          "metadata": {
            "tags": []
          }
        },
        {
          "output_type": "display_data",
          "data": {
            "text/html": [
              "<pre>| Elapsed Time (Item Statistics) | % Complete |</pre>"
            ],
            "text/plain": [
              "| Elapsed Time (Item Statistics) | % Complete |"
            ]
          },
          "metadata": {
            "tags": []
          }
        },
        {
          "output_type": "display_data",
          "data": {
            "text/html": [
              "<pre>+--------------------------------+------------+</pre>"
            ],
            "text/plain": [
              "+--------------------------------+------------+"
            ]
          },
          "metadata": {
            "tags": []
          }
        },
        {
          "output_type": "display_data",
          "data": {
            "text/html": [
              "<pre>| 22.064ms                       | 100        |</pre>"
            ],
            "text/plain": [
              "| 22.064ms                       | 100        |"
            ]
          },
          "metadata": {
            "tags": []
          }
        },
        {
          "output_type": "display_data",
          "data": {
            "text/html": [
              "<pre>+--------------------------------+------------+</pre>"
            ],
            "text/plain": [
              "+--------------------------------+------------+"
            ]
          },
          "metadata": {
            "tags": []
          }
        },
        {
          "output_type": "display_data",
          "data": {
            "text/html": [
              "<pre>Setting up lookup tables.</pre>"
            ],
            "text/plain": [
              "Setting up lookup tables."
            ]
          },
          "metadata": {
            "tags": []
          }
        },
        {
          "output_type": "display_data",
          "data": {
            "text/html": [
              "<pre>Processing data in one pass using dense lookup tables.</pre>"
            ],
            "text/plain": [
              "Processing data in one pass using dense lookup tables."
            ]
          },
          "metadata": {
            "tags": []
          }
        },
        {
          "output_type": "display_data",
          "data": {
            "text/html": [
              "<pre>+-------------------------------------+------------------+-----------------+</pre>"
            ],
            "text/plain": [
              "+-------------------------------------+------------------+-----------------+"
            ]
          },
          "metadata": {
            "tags": []
          }
        },
        {
          "output_type": "display_data",
          "data": {
            "text/html": [
              "<pre>| Elapsed Time (Constructing Lookups) | Total % Complete | Items Processed |</pre>"
            ],
            "text/plain": [
              "| Elapsed Time (Constructing Lookups) | Total % Complete | Items Processed |"
            ]
          },
          "metadata": {
            "tags": []
          }
        },
        {
          "output_type": "display_data",
          "data": {
            "text/html": [
              "<pre>+-------------------------------------+------------------+-----------------+</pre>"
            ],
            "text/plain": [
              "+-------------------------------------+------------------+-----------------+"
            ]
          },
          "metadata": {
            "tags": []
          }
        },
        {
          "output_type": "display_data",
          "data": {
            "text/html": [
              "<pre>| 37.203ms                            | 0                | 0               |</pre>"
            ],
            "text/plain": [
              "| 37.203ms                            | 0                | 0               |"
            ]
          },
          "metadata": {
            "tags": []
          }
        },
        {
          "output_type": "display_data",
          "data": {
            "text/html": [
              "<pre>| 2.04s                               | 100              | 2494            |</pre>"
            ],
            "text/plain": [
              "| 2.04s                               | 100              | 2494            |"
            ]
          },
          "metadata": {
            "tags": []
          }
        },
        {
          "output_type": "display_data",
          "data": {
            "text/html": [
              "<pre>+-------------------------------------+------------------+-----------------+</pre>"
            ],
            "text/plain": [
              "+-------------------------------------+------------------+-----------------+"
            ]
          },
          "metadata": {
            "tags": []
          }
        },
        {
          "output_type": "display_data",
          "data": {
            "text/html": [
              "<pre>Finalizing lookup tables.</pre>"
            ],
            "text/plain": [
              "Finalizing lookup tables."
            ]
          },
          "metadata": {
            "tags": []
          }
        },
        {
          "output_type": "display_data",
          "data": {
            "text/html": [
              "<pre>Generating candidate set for working with new users.</pre>"
            ],
            "text/plain": [
              "Generating candidate set for working with new users."
            ]
          },
          "metadata": {
            "tags": []
          }
        },
        {
          "output_type": "display_data",
          "data": {
            "text/html": [
              "<pre>Finished training in 2.07823s</pre>"
            ],
            "text/plain": [
              "Finished training in 2.07823s"
            ]
          },
          "metadata": {
            "tags": []
          }
        },
        {
          "output_type": "stream",
          "text": [
            "+------------+-----------+---------------------+------+\n",
            "| CustomerID | productId |        score        | rank |\n",
            "+------------+-----------+---------------------+------+\n",
            "|     0      |   21690A  | 0.49998377483020456 |  1   |\n",
            "|     0      |   84548X  |  0.4999360874179722 |  2   |\n",
            "|     0      |   21816Y  |         0.4         |  3   |\n",
            "|     0      |  81950BS  |  0.3999707544496817 |  4   |\n",
            "|     0      |   85189T  | 0.33433769654858025 |  5   |\n",
            "|     0      |   21393V  | 0.33333333333333337 |  6   |\n",
            "|     0      |  72369AK  | 0.33333333333333337 |  7   |\n",
            "|     0      |   21392H  | 0.33333333333333337 |  8   |\n",
            "|     0      |   21692C  | 0.33333333333333337 |  9   |\n",
            "|     0      |  84751BL  | 0.33333333333333337 |  10  |\n",
            "|   32769    |   21690A  |         0.5         |  1   |\n",
            "|   32769    |   84548X  |         0.5         |  2   |\n",
            "|   32769    |   21816Y  |  0.3999880963250211 |  3   |\n",
            "|   32769    |  81950BS  |  0.3999007190528669 |  4   |\n",
            "|   32769    |  72369AK  | 0.33333333333333337 |  5   |\n",
            "|   32769    |   21692C  | 0.33333333333333337 |  6   |\n",
            "|   32769    |  84800SH  | 0.33333333333333337 |  7   |\n",
            "|   32769    |  84751BL  | 0.33332773912371255 |  8   |\n",
            "|   32769    |   21196B  | 0.33319770688550515 |  9   |\n",
            "|   32769    |   21393V  |  0.333184128790571  |  10  |\n",
            "|   24579    |   21690A  |         0.5         |  1   |\n",
            "|   24579    |   84548X  |         0.5         |  2   |\n",
            "|   24579    |   21816Y  |         0.4         |  3   |\n",
            "|   24579    |  81950BS  |         0.4         |  4   |\n",
            "|   24579    |   21393V  | 0.33333333333333337 |  5   |\n",
            "|   24579    |  90163AR  | 0.33333333333333337 |  6   |\n",
            "|   24579    |  72369AK  | 0.33333333333333337 |  7   |\n",
            "|   24579    |   21392H  | 0.33333333333333337 |  8   |\n",
            "|   24579    |   21692C  | 0.33333333333333337 |  9   |\n",
            "|   24579    |  84800SH  | 0.33333333333333337 |  10  |\n",
            "+------------+-----------+---------------------+------+\n",
            "[9720 rows x 4 columns]\n",
            "\n"
          ],
          "name": "stdout"
        }
      ]
    },
    {
      "cell_type": "code",
      "metadata": {
        "id": "-CgPnEpq8Wgi",
        "colab_type": "code",
        "colab": {}
      },
      "source": [
        "models_w_counts = [popularity, cos, pear]\n",
        "models_w_dummy = [pop_dummy, cos_dummy, pear_dummy]\n",
        "models_w_norm = [pop_norm, cos_norm, pear_norm]\n",
        "names_w_counts = ['Popularity Model on Purchase Counts', 'Cosine Similarity on Purchase Counts', 'Pearson Similarity on Purchase Counts']\n",
        "names_w_dummy = ['Popularity Model on Purchase Dummy', 'Cosine Similarity on Purchase Dummy', 'Pearson Similarity on Purchase Dummy']\n",
        "names_w_norm = ['Popularity Model on Scaled Purchase Counts', 'Cosine Similarity on Scaled Purchase Counts', 'Pearson Similarity on Scaled Purchase Counts']"
      ],
      "execution_count": 0,
      "outputs": []
    },
    {
      "cell_type": "code",
      "metadata": {
        "id": "Yuj3o78m8bJ_",
        "colab_type": "code",
        "outputId": "5daf2c05-7677-4e36-bc1f-02f03619dfb6",
        "colab": {
          "base_uri": "https://localhost:8080/",
          "height": 8738
        }
      },
      "source": [
        "eval_counts = tc.recommender.util.compare_models(test_data, models_w_counts, model_names=names_w_counts)\n",
        "eval_dummy = tc.recommender.util.compare_models(test_data_dummy, models_w_dummy, model_names=names_w_dummy)\n",
        "eval_norm = tc.recommender.util.compare_models(test_data_norm, models_w_norm, model_names=names_w_norm)"
      ],
      "execution_count": 0,
      "outputs": [
        {
          "output_type": "stream",
          "text": [
            "PROGRESS: Evaluate model Popularity Model on Purchase Counts\n",
            "\n",
            "Precision and recall summary statistics by cutoff\n",
            "+--------+---------------------+----------------------+\n",
            "| cutoff |    mean_precision   |     mean_recall      |\n",
            "+--------+---------------------+----------------------+\n",
            "|   1    | 0.30095036958817367 | 0.006661611580714211 |\n",
            "|   2    | 0.24392819429778273 | 0.011922541299614451 |\n",
            "|   3    |  0.2189369940161919 | 0.015325915060604907 |\n",
            "|   4    | 0.19799366420274533 | 0.017808764226943417 |\n",
            "|   5    |  0.1894403379091872 | 0.020255192776740656 |\n",
            "|   6    | 0.18268215417106637 | 0.02247730058376422  |\n",
            "|   7    | 0.17951425554382264 | 0.025147102638212182 |\n",
            "|   8    |  0.1814941921858502 | 0.028705245004105314 |\n",
            "|   9    | 0.18420743869529524 | 0.03182723774380091  |\n",
            "|   10   |  0.1859556494192186 | 0.034824056629645946 |\n",
            "+--------+---------------------+----------------------+\n",
            "[10 rows x 3 columns]\n",
            "\n",
            "\n",
            "Overall RMSE: 0.5240659632429618\n",
            "\n",
            "Per User RMSE (best)\n",
            "+------------+---------------------+-------+\n",
            "| CustomerID |         rmse        | count |\n",
            "+------------+---------------------+-------+\n",
            "|   171918   | 0.03546929323100885 |   2   |\n",
            "+------------+---------------------+-------+\n",
            "[1 rows x 3 columns]\n",
            "\n",
            "\n",
            "Per User RMSE (worst)\n",
            "+------------+--------------------+-------+\n",
            "| CustomerID |        rmse        | count |\n",
            "+------------+--------------------+-------+\n",
            "|   471915   | 1.3653444676409188 |   1   |\n",
            "+------------+--------------------+-------+\n",
            "[1 rows x 3 columns]\n",
            "\n",
            "\n",
            "Per Item RMSE (best)\n",
            "+-----------+------+-------+\n",
            "| productId | rmse | count |\n",
            "+-----------+------+-------+\n",
            "|   21369C  | 0.0  |   1   |\n",
            "+-----------+------+-------+\n",
            "[1 rows x 3 columns]\n",
            "\n",
            "\n",
            "Per Item RMSE (worst)\n",
            "+-----------+-------------------+-------+\n",
            "| productId |        rmse       | count |\n",
            "+-----------+-------------------+-------+\n",
            "|   21587I  | 2.022828894072328 |   2   |\n",
            "+-----------+-------------------+-------+\n",
            "[1 rows x 3 columns]\n",
            "\n",
            "PROGRESS: Evaluate model Cosine Similarity on Purchase Counts\n",
            "\n",
            "Precision and recall summary statistics by cutoff\n",
            "+--------+---------------------+----------------------+\n",
            "| cutoff |    mean_precision   |     mean_recall      |\n",
            "+--------+---------------------+----------------------+\n",
            "|   1    | 0.32101372756071844 | 0.006441430664728028 |\n",
            "|   2    | 0.30200633579725494 | 0.01126863927114101  |\n",
            "|   3    | 0.28370292150651183 | 0.015320750158992065 |\n",
            "|   4    |  0.2721752903907072 | 0.020277675172532948 |\n",
            "|   5    |  0.2675818373812036 | 0.02452784802356428  |\n",
            "|   6    | 0.26135163674762407 | 0.028811236962964115 |\n",
            "|   7    | 0.25629808417559197 | 0.03254846026193347  |\n",
            "|   8    |  0.2529039070749733 | 0.03646371918975464  |\n",
            "|   9    | 0.24639211545230544 | 0.04035184372435404  |\n",
            "|   10   | 0.24202745512143586 | 0.043491590899821436 |\n",
            "+--------+---------------------+----------------------+\n",
            "[10 rows x 3 columns]\n",
            "\n",
            "\n",
            "Overall RMSE: 1.2998953620232692\n",
            "\n",
            "Per User RMSE (best)\n",
            "+------------+---------------------+-------+\n",
            "| CustomerID |         rmse        | count |\n",
            "+------------+---------------------+-------+\n",
            "|   471915   | 0.40109720826148987 |   1   |\n",
            "+------------+---------------------+-------+\n",
            "[1 rows x 3 columns]\n",
            "\n",
            "\n",
            "Per User RMSE (worst)\n",
            "+------------+-------------------+-------+\n",
            "| CustomerID |        rmse       | count |\n",
            "+------------+-------------------+-------+\n",
            "|   220878   | 1.882819140479655 |  181  |\n",
            "+------------+-------------------+-------+\n",
            "[1 rows x 3 columns]\n",
            "\n",
            "\n",
            "Per Item RMSE (best)\n",
            "+-----------+--------------------+-------+\n",
            "| productId |        rmse        | count |\n",
            "+-----------+--------------------+-------+\n",
            "|   85095S  | 0.9422963132153649 |   3   |\n",
            "+-----------+--------------------+-------+\n",
            "[1 rows x 3 columns]\n",
            "\n",
            "\n",
            "Per Item RMSE (worst)\n",
            "+-----------+--------------------+-------+\n",
            "| productId |        rmse        | count |\n",
            "+-----------+--------------------+-------+\n",
            "|   21587I  | 2.9150679336988534 |   2   |\n",
            "+-----------+--------------------+-------+\n",
            "[1 rows x 3 columns]\n",
            "\n",
            "PROGRESS: Evaluate model Pearson Similarity on Purchase Counts\n",
            "\n",
            "Precision and recall summary statistics by cutoff\n",
            "+--------+---------------------+----------------------+\n",
            "| cutoff |    mean_precision   |     mean_recall      |\n",
            "+--------+---------------------+----------------------+\n",
            "|   1    |  0.2977824709609294 | 0.006488950439204073 |\n",
            "|   2    |  0.2428722280887009 | 0.011797878622153465 |\n",
            "|   3    | 0.21964097148891235 | 0.015143781046597783 |\n",
            "|   4    | 0.19693769799366415 | 0.017180952384149295 |\n",
            "|   5    | 0.18922914466737045 | 0.01988154319506572  |\n",
            "|   6    | 0.18215417106652582 | 0.02228690831459057  |\n",
            "|   7    |  0.1784582893347414 | 0.024785208901829905 |\n",
            "|   8    | 0.18057022175290363 | 0.02820841678744557  |\n",
            "|   9    |  0.1833861316437875 | 0.031250971695890875 |\n",
            "|   10   | 0.18553326293558617 | 0.034418467075093294 |\n",
            "+--------+---------------------+----------------------+\n",
            "[10 rows x 3 columns]\n",
            "\n",
            "\n",
            "Overall RMSE: 0.5241417894454378\n",
            "\n",
            "Per User RMSE (best)\n",
            "+------------+---------------------+-------+\n",
            "| CustomerID |         rmse        | count |\n",
            "+------------+---------------------+-------+\n",
            "|   171918   | 0.03546929323100892 |   2   |\n",
            "+------------+---------------------+-------+\n",
            "[1 rows x 3 columns]\n",
            "\n",
            "\n",
            "Per User RMSE (worst)\n",
            "+------------+--------------------+-------+\n",
            "| CustomerID |        rmse        | count |\n",
            "+------------+--------------------+-------+\n",
            "|   219177   | 1.3326133909287234 |   1   |\n",
            "+------------+--------------------+-------+\n",
            "[1 rows x 3 columns]\n",
            "\n",
            "\n",
            "Per Item RMSE (best)\n",
            "+-----------+------+-------+\n",
            "| productId | rmse | count |\n",
            "+-----------+------+-------+\n",
            "|   21369C  | 0.0  |   1   |\n",
            "+-----------+------+-------+\n",
            "[1 rows x 3 columns]\n",
            "\n",
            "\n",
            "Per Item RMSE (worst)\n",
            "+-----------+--------------------+-------+\n",
            "| productId |        rmse        | count |\n",
            "+-----------+--------------------+-------+\n",
            "|   21587I  | 2.0224886212780744 |   2   |\n",
            "+-----------+--------------------+-------+\n",
            "[1 rows x 3 columns]\n",
            "\n",
            "PROGRESS: Evaluate model Popularity Model on Purchase Dummy\n",
            "\n",
            "Precision and recall summary statistics by cutoff\n",
            "+--------+-----------------------+------------------------+\n",
            "| cutoff |     mean_precision    |      mean_recall       |\n",
            "+--------+-----------------------+------------------------+\n",
            "|   1    | 0.0031678986272439275 | 4.8507516948108725e-05 |\n",
            "|   2    |  0.006335797254487862 | 0.0001459944982156647  |\n",
            "|   3    |  0.00739176346356917  | 0.00026311775259932167 |\n",
            "|   4    |  0.006863780359028515 | 0.00036555955413902834 |\n",
            "|   5    | 0.0069693769799366425 | 0.0004651978711854647  |\n",
            "|   6    |  0.007391763463569187 | 0.0006838377032642399  |\n",
            "|   7    |  0.007542615779152217 | 0.0008218247295894951  |\n",
            "|   8    |  0.006995776135163668 | 0.0008654679281407664  |\n",
            "|   9    |  0.006805115569635104 | 0.0009469075777960832  |\n",
            "|   10   |  0.006652587117212246 | 0.0010880281175685374  |\n",
            "+--------+-----------------------+------------------------+\n",
            "[10 rows x 3 columns]\n",
            "\n",
            "\n",
            "Overall RMSE: 0.0\n",
            "\n",
            "Per User RMSE (best)\n",
            "+------------+------+-------+\n",
            "| CustomerID | rmse | count |\n",
            "+------------+------+-------+\n",
            "|   39960    | 0.0  |  103  |\n",
            "+------------+------+-------+\n",
            "[1 rows x 3 columns]\n",
            "\n",
            "\n",
            "Per User RMSE (worst)\n",
            "+------------+------+-------+\n",
            "| CustomerID | rmse | count |\n",
            "+------------+------+-------+\n",
            "|   410886   | 0.0  |   82  |\n",
            "+------------+------+-------+\n",
            "[1 rows x 3 columns]\n",
            "\n",
            "\n",
            "Per Item RMSE (best)\n",
            "+-----------+------+-------+\n",
            "| productId | rmse | count |\n",
            "+-----------+------+-------+\n",
            "|   22444X  | 0.0  |   7   |\n",
            "+-----------+------+-------+\n",
            "[1 rows x 3 columns]\n",
            "\n",
            "\n",
            "Per Item RMSE (worst)\n",
            "+-----------+------+-------+\n",
            "| productId | rmse | count |\n",
            "+-----------+------+-------+\n",
            "|   21735B  | 0.0  |   8   |\n",
            "+-----------+------+-------+\n",
            "[1 rows x 3 columns]\n",
            "\n",
            "PROGRESS: Evaluate model Cosine Similarity on Purchase Dummy\n",
            "\n",
            "Precision and recall summary statistics by cutoff\n",
            "+--------+---------------------+----------------------+\n",
            "| cutoff |    mean_precision   |     mean_recall      |\n",
            "+--------+---------------------+----------------------+\n",
            "|   1    | 0.34424498416050636 | 0.006409137281363524 |\n",
            "|   2    |  0.3099260823653645 | 0.011673948738444824 |\n",
            "|   3    |  0.2974304822245688 | 0.01746756392802833  |\n",
            "|   4    |  0.2859028511087645 | 0.02258012380022441  |\n",
            "|   5    | 0.27729672650475207 | 0.026645023753833402 |\n",
            "|   6    |  0.2682154171066521 | 0.03076916126045409  |\n",
            "|   7    |  0.2621813244833314 | 0.03476000007790482  |\n",
            "|   8    | 0.25699577613516383 | 0.03863032822990029  |\n",
            "|   9    |  0.2526105831280066 | 0.04331836477973679  |\n",
            "|   10   | 0.24762407602956685 | 0.04764697790154759  |\n",
            "+--------+---------------------+----------------------+\n",
            "[10 rows x 3 columns]\n",
            "\n",
            "\n",
            "Overall RMSE: 0.9750865363525607\n",
            "\n",
            "Per User RMSE (best)\n",
            "+------------+--------------------+-------+\n",
            "| CustomerID |        rmse        | count |\n",
            "+------------+--------------------+-------+\n",
            "|   471915   | 0.4183996021747589 |   1   |\n",
            "+------------+--------------------+-------+\n",
            "[1 rows x 3 columns]\n",
            "\n",
            "\n",
            "Per User RMSE (worst)\n",
            "+------------+------+-------+\n",
            "| CustomerID | rmse | count |\n",
            "+------------+------+-------+\n",
            "|   578025   | 1.0  |   2   |\n",
            "+------------+------+-------+\n",
            "[1 rows x 3 columns]\n",
            "\n",
            "\n",
            "Per Item RMSE (best)\n",
            "+-----------+--------------------+-------+\n",
            "| productId |        rmse        | count |\n",
            "+-----------+--------------------+-------+\n",
            "|  85099BJ  | 0.7070397808526654 |  114  |\n",
            "+-----------+--------------------+-------+\n",
            "[1 rows x 3 columns]\n",
            "\n",
            "\n",
            "Per Item RMSE (worst)\n",
            "+-----------+------+-------+\n",
            "| productId | rmse | count |\n",
            "+-----------+------+-------+\n",
            "|   23060Q  | 1.0  |   8   |\n",
            "+-----------+------+-------+\n",
            "[1 rows x 3 columns]\n",
            "\n",
            "PROGRESS: Evaluate model Pearson Similarity on Purchase Dummy\n",
            "\n",
            "Precision and recall summary statistics by cutoff\n",
            "+--------+----------------------+------------------------+\n",
            "| cutoff |    mean_precision    |      mean_recall       |\n",
            "+--------+----------------------+------------------------+\n",
            "|   1    | 0.003167898627243929 | 4.850751694810872e-05  |\n",
            "|   2    | 0.006335797254487862 | 0.00014599449821566454 |\n",
            "|   3    | 0.007391763463569172 | 0.00026311775259932156 |\n",
            "|   4    | 0.006863780359028518 | 0.00036555955413902845 |\n",
            "|   5    | 0.006969376979936652 | 0.0004651978711854637  |\n",
            "|   6    | 0.007391763463569184 | 0.0006838377032642408  |\n",
            "|   7    | 0.007542615779152213 | 0.0008218247295894955  |\n",
            "|   8    | 0.006995776135163673 |  0.000865467928140767  |\n",
            "|   9    | 0.006805115569635112 | 0.0009469075777960841  |\n",
            "|   10   | 0.006652587117212244 | 0.0010880281175685382  |\n",
            "+--------+----------------------+------------------------+\n",
            "[10 rows x 3 columns]\n",
            "\n",
            "\n",
            "Overall RMSE: 1.0\n",
            "\n",
            "Per User RMSE (best)\n",
            "+------------+------+-------+\n",
            "| CustomerID | rmse | count |\n",
            "+------------+------+-------+\n",
            "|   39960    | 1.0  |  103  |\n",
            "+------------+------+-------+\n",
            "[1 rows x 3 columns]\n",
            "\n",
            "\n",
            "Per User RMSE (worst)\n",
            "+------------+------+-------+\n",
            "| CustomerID | rmse | count |\n",
            "+------------+------+-------+\n",
            "|   410886   | 1.0  |   82  |\n",
            "+------------+------+-------+\n",
            "[1 rows x 3 columns]\n",
            "\n",
            "\n",
            "Per Item RMSE (best)\n",
            "+-----------+------+-------+\n",
            "| productId | rmse | count |\n",
            "+-----------+------+-------+\n",
            "|   22444X  | 1.0  |   7   |\n",
            "+-----------+------+-------+\n",
            "[1 rows x 3 columns]\n",
            "\n",
            "\n",
            "Per Item RMSE (worst)\n",
            "+-----------+------+-------+\n",
            "| productId | rmse | count |\n",
            "+-----------+------+-------+\n",
            "|   21735B  | 1.0  |   8   |\n",
            "+-----------+------+-------+\n",
            "[1 rows x 3 columns]\n",
            "\n",
            "PROGRESS: Evaluate model Popularity Model on Scaled Purchase Counts\n",
            "\n",
            "Precision and recall summary statistics by cutoff\n",
            "+--------+-----------------------+------------------------+\n",
            "| cutoff |     mean_precision    |      mean_recall       |\n",
            "+--------+-----------------------+------------------------+\n",
            "|   1    |  0.002116402116402119 | 2.077598716254179e-05  |\n",
            "|   2    | 0.0010582010582010596 | 2.077598716254179e-05  |\n",
            "|   3    | 0.0010582010582010607 | 2.8792661845883178e-05 |\n",
            "|   4    | 0.0007936507936507944 | 2.8792661845883178e-05 |\n",
            "|   5    | 0.0006349206349206342 | 2.8792661845883178e-05 |\n",
            "|   6    | 0.0007054673721340397 | 4.390981982018384e-05  |\n",
            "|   7    | 0.0009070294784580499 | 6.229673078099532e-05  |\n",
            "|   8    | 0.0007936507936507951 |  6.22967307809953e-05  |\n",
            "|   9    | 0.0008230452674897128 | 6.903686490966468e-05  |\n",
            "|   10   | 0.0007407407407407406 | 6.903686490966469e-05  |\n",
            "+--------+-----------------------+------------------------+\n",
            "[10 rows x 3 columns]\n",
            "\n",
            "\n",
            "Overall RMSE: 0.20803687533989215\n",
            "\n",
            "Per User RMSE (best)\n",
            "+------------+----------------------+-------+\n",
            "| CustomerID |         rmse         | count |\n",
            "+------------+----------------------+-------+\n",
            "|   471816   | 0.032464409422453745 |   2   |\n",
            "+------------+----------------------+-------+\n",
            "[1 rows x 3 columns]\n",
            "\n",
            "\n",
            "Per User RMSE (worst)\n",
            "+------------+--------------------+-------+\n",
            "| CustomerID |        rmse        | count |\n",
            "+------------+--------------------+-------+\n",
            "|   129168   | 0.4338429975309805 |   16  |\n",
            "+------------+--------------------+-------+\n",
            "[1 rows x 3 columns]\n",
            "\n",
            "\n",
            "Per Item RMSE (best)\n",
            "+-----------+----------------------+-------+\n",
            "| productId |         rmse         | count |\n",
            "+-----------+----------------------+-------+\n",
            "|   21913C  | 0.013888888888888888 |   14  |\n",
            "+-----------+----------------------+-------+\n",
            "[1 rows x 3 columns]\n",
            "\n",
            "\n",
            "Per Item RMSE (worst)\n",
            "+-----------+------+-------+\n",
            "| productId | rmse | count |\n",
            "+-----------+------+-------+\n",
            "|  84859BN  | 1.0  |   1   |\n",
            "+-----------+------+-------+\n",
            "[1 rows x 3 columns]\n",
            "\n",
            "PROGRESS: Evaluate model Cosine Similarity on Scaled Purchase Counts\n",
            "\n",
            "Precision and recall summary statistics by cutoff\n",
            "+--------+---------------------+----------------------+\n",
            "| cutoff |    mean_precision   |     mean_recall      |\n",
            "+--------+---------------------+----------------------+\n",
            "|   1    | 0.33121693121693124 | 0.005323055222407308 |\n",
            "|   2    | 0.30211640211640217 | 0.00915173416574507  |\n",
            "|   3    | 0.28359788359788374 | 0.012691031397867078 |\n",
            "|   4    | 0.27222222222222253 |  0.0165539603576884  |\n",
            "|   5    |  0.2617989417989415 | 0.019521363858829337 |\n",
            "|   6    |  0.2553791887125226 | 0.022818518442546527 |\n",
            "|   7    |  0.2476190476190474 | 0.02547120948109427  |\n",
            "|   8    | 0.24047619047619073 | 0.02812219977495143  |\n",
            "|   9    | 0.23492063492063486 | 0.031054021290898435 |\n",
            "|   10   | 0.23015873015873015 | 0.033682803591352437 |\n",
            "+--------+---------------------+----------------------+\n",
            "[10 rows x 3 columns]\n",
            "\n",
            "\n",
            "Overall RMSE: 0.22198112904195214\n",
            "\n",
            "Per User RMSE (best)\n",
            "+------------+------+-------+\n",
            "| CustomerID | rmse | count |\n",
            "+------------+------+-------+\n",
            "|   479016   | 0.0  |   2   |\n",
            "+------------+------+-------+\n",
            "[1 rows x 3 columns]\n",
            "\n",
            "\n",
            "Per User RMSE (worst)\n",
            "+------------+---------------------+-------+\n",
            "| CustomerID |         rmse        | count |\n",
            "+------------+---------------------+-------+\n",
            "|   129168   | 0.45069451686131756 |   16  |\n",
            "+------------+---------------------+-------+\n",
            "[1 rows x 3 columns]\n",
            "\n",
            "\n",
            "Per Item RMSE (best)\n",
            "+-----------+------+-------+\n",
            "| productId | rmse | count |\n",
            "+-----------+------+-------+\n",
            "|   22444X  | 0.0  |   9   |\n",
            "+-----------+------+-------+\n",
            "[1 rows x 3 columns]\n",
            "\n",
            "\n",
            "Per Item RMSE (worst)\n",
            "+-----------+------+-------+\n",
            "| productId | rmse | count |\n",
            "+-----------+------+-------+\n",
            "|  84859BN  | 1.0  |   1   |\n",
            "+-----------+------+-------+\n",
            "[1 rows x 3 columns]\n",
            "\n",
            "PROGRESS: Evaluate model Pearson Similarity on Scaled Purchase Counts\n",
            "\n",
            "Precision and recall summary statistics by cutoff\n",
            "+--------+-----------------------+------------------------+\n",
            "| cutoff |     mean_precision    |      mean_recall       |\n",
            "+--------+-----------------------+------------------------+\n",
            "|   1    | 0.0010582010582010596 | 5.658829188240958e-06  |\n",
            "|   2    | 0.0010582010582010596 | 2.077598716254179e-05  |\n",
            "|   3    | 0.0010582010582010613 | 2.8792661845883198e-05 |\n",
            "|   4    | 0.0007936507936507934 | 2.8792661845883198e-05 |\n",
            "|   5    | 0.0006349206349206345 | 2.8792661845883198e-05 |\n",
            "|   6    | 0.0005291005291005307 | 2.8792661845883198e-05 |\n",
            "|   7    | 0.0004535147392290252 | 2.8792661845883198e-05 |\n",
            "|   8    |  0.00052910052910053  | 3.553279597455228e-05  |\n",
            "|   9    | 0.0008230452674897125 | 0.00016831504271749988 |\n",
            "|   10   | 0.0008465608465608477 | 0.00017957250078346856 |\n",
            "+--------+-----------------------+------------------------+\n",
            "[10 rows x 3 columns]\n",
            "\n",
            "\n",
            "Overall RMSE: 0.2079251076132031\n",
            "\n",
            "Per User RMSE (best)\n",
            "+------------+---------------------+-------+\n",
            "| CustomerID |         rmse        | count |\n",
            "+------------+---------------------+-------+\n",
            "|   471816   | 0.03041336064386343 |   2   |\n",
            "+------------+---------------------+-------+\n",
            "[1 rows x 3 columns]\n",
            "\n",
            "\n",
            "Per User RMSE (worst)\n",
            "+------------+--------------------+-------+\n",
            "| CustomerID |        rmse        | count |\n",
            "+------------+--------------------+-------+\n",
            "|   129168   | 0.4339311541871989 |   16  |\n",
            "+------------+--------------------+-------+\n",
            "[1 rows x 3 columns]\n",
            "\n",
            "\n",
            "Per Item RMSE (best)\n",
            "+-----------+----------------------+-------+\n",
            "| productId |         rmse         | count |\n",
            "+-----------+----------------------+-------+\n",
            "|   21913C  | 0.013973885188721589 |   14  |\n",
            "+-----------+----------------------+-------+\n",
            "[1 rows x 3 columns]\n",
            "\n",
            "\n",
            "Per Item RMSE (worst)\n",
            "+-----------+------+-------+\n",
            "| productId | rmse | count |\n",
            "+-----------+------+-------+\n",
            "|  84859BN  | 1.0  |   1   |\n",
            "+-----------+------+-------+\n",
            "[1 rows x 3 columns]\n",
            "\n"
          ],
          "name": "stdout"
        }
      ]
    },
    {
      "cell_type": "code",
      "metadata": {
        "id": "-aznBdFN8o-C",
        "colab_type": "code",
        "outputId": "6c61888d-485d-42f0-a004-cf35fd2df150",
        "colab": {
          "base_uri": "https://localhost:8080/",
          "height": 680
        }
      },
      "source": [
        "final_model = tc.item_similarity_recommender.create(tc.SFrame(data_dummy), \n",
        "                                            user_id=user_id, \n",
        "                                            item_id=item_id, \n",
        "                                            target='purchase_dummy', similarity_type='cosine')\n",
        "recom = final_model.recommend(users=users_to_recommend, k=3)\n",
        "recom.print_rows(10)"
      ],
      "execution_count": 0,
      "outputs": [
        {
          "output_type": "display_data",
          "data": {
            "text/html": [
              "<pre>Warning: Ignoring columns purchase_count;</pre>"
            ],
            "text/plain": [
              "Warning: Ignoring columns purchase_count;"
            ]
          },
          "metadata": {
            "tags": []
          }
        },
        {
          "output_type": "display_data",
          "data": {
            "text/html": [
              "<pre>    To use these columns in scoring predictions, use a model that allows the use of additional features.</pre>"
            ],
            "text/plain": [
              "    To use these columns in scoring predictions, use a model that allows the use of additional features."
            ]
          },
          "metadata": {
            "tags": []
          }
        },
        {
          "output_type": "display_data",
          "data": {
            "text/html": [
              "<pre>Preparing data set.</pre>"
            ],
            "text/plain": [
              "Preparing data set."
            ]
          },
          "metadata": {
            "tags": []
          }
        },
        {
          "output_type": "display_data",
          "data": {
            "text/html": [
              "<pre>    Data has 271031 observations with 972 users and 3810 items.</pre>"
            ],
            "text/plain": [
              "    Data has 271031 observations with 972 users and 3810 items."
            ]
          },
          "metadata": {
            "tags": []
          }
        },
        {
          "output_type": "display_data",
          "data": {
            "text/html": [
              "<pre>    Data prepared in: 0.246361s</pre>"
            ],
            "text/plain": [
              "    Data prepared in: 0.246361s"
            ]
          },
          "metadata": {
            "tags": []
          }
        },
        {
          "output_type": "display_data",
          "data": {
            "text/html": [
              "<pre>Training model from provided data.</pre>"
            ],
            "text/plain": [
              "Training model from provided data."
            ]
          },
          "metadata": {
            "tags": []
          }
        },
        {
          "output_type": "display_data",
          "data": {
            "text/html": [
              "<pre>Gathering per-item and per-user statistics.</pre>"
            ],
            "text/plain": [
              "Gathering per-item and per-user statistics."
            ]
          },
          "metadata": {
            "tags": []
          }
        },
        {
          "output_type": "display_data",
          "data": {
            "text/html": [
              "<pre>+--------------------------------+------------+</pre>"
            ],
            "text/plain": [
              "+--------------------------------+------------+"
            ]
          },
          "metadata": {
            "tags": []
          }
        },
        {
          "output_type": "display_data",
          "data": {
            "text/html": [
              "<pre>| Elapsed Time (Item Statistics) | % Complete |</pre>"
            ],
            "text/plain": [
              "| Elapsed Time (Item Statistics) | % Complete |"
            ]
          },
          "metadata": {
            "tags": []
          }
        },
        {
          "output_type": "display_data",
          "data": {
            "text/html": [
              "<pre>+--------------------------------+------------+</pre>"
            ],
            "text/plain": [
              "+--------------------------------+------------+"
            ]
          },
          "metadata": {
            "tags": []
          }
        },
        {
          "output_type": "display_data",
          "data": {
            "text/html": [
              "<pre>| 11.427ms                       | 100        |</pre>"
            ],
            "text/plain": [
              "| 11.427ms                       | 100        |"
            ]
          },
          "metadata": {
            "tags": []
          }
        },
        {
          "output_type": "display_data",
          "data": {
            "text/html": [
              "<pre>+--------------------------------+------------+</pre>"
            ],
            "text/plain": [
              "+--------------------------------+------------+"
            ]
          },
          "metadata": {
            "tags": []
          }
        },
        {
          "output_type": "display_data",
          "data": {
            "text/html": [
              "<pre>Setting up lookup tables.</pre>"
            ],
            "text/plain": [
              "Setting up lookup tables."
            ]
          },
          "metadata": {
            "tags": []
          }
        },
        {
          "output_type": "display_data",
          "data": {
            "text/html": [
              "<pre>Processing data in one pass using dense lookup tables.</pre>"
            ],
            "text/plain": [
              "Processing data in one pass using dense lookup tables."
            ]
          },
          "metadata": {
            "tags": []
          }
        },
        {
          "output_type": "display_data",
          "data": {
            "text/html": [
              "<pre>+-------------------------------------+------------------+-----------------+</pre>"
            ],
            "text/plain": [
              "+-------------------------------------+------------------+-----------------+"
            ]
          },
          "metadata": {
            "tags": []
          }
        },
        {
          "output_type": "display_data",
          "data": {
            "text/html": [
              "<pre>| Elapsed Time (Constructing Lookups) | Total % Complete | Items Processed |</pre>"
            ],
            "text/plain": [
              "| Elapsed Time (Constructing Lookups) | Total % Complete | Items Processed |"
            ]
          },
          "metadata": {
            "tags": []
          }
        },
        {
          "output_type": "display_data",
          "data": {
            "text/html": [
              "<pre>+-------------------------------------+------------------+-----------------+</pre>"
            ],
            "text/plain": [
              "+-------------------------------------+------------------+-----------------+"
            ]
          },
          "metadata": {
            "tags": []
          }
        },
        {
          "output_type": "display_data",
          "data": {
            "text/html": [
              "<pre>| 33.667ms                            | 0                | 3               |</pre>"
            ],
            "text/plain": [
              "| 33.667ms                            | 0                | 3               |"
            ]
          },
          "metadata": {
            "tags": []
          }
        },
        {
          "output_type": "display_data",
          "data": {
            "text/html": [
              "<pre>| 1.12s                               | 100              | 3810            |</pre>"
            ],
            "text/plain": [
              "| 1.12s                               | 100              | 3810            |"
            ]
          },
          "metadata": {
            "tags": []
          }
        },
        {
          "output_type": "display_data",
          "data": {
            "text/html": [
              "<pre>+-------------------------------------+------------------+-----------------+</pre>"
            ],
            "text/plain": [
              "+-------------------------------------+------------------+-----------------+"
            ]
          },
          "metadata": {
            "tags": []
          }
        },
        {
          "output_type": "display_data",
          "data": {
            "text/html": [
              "<pre>Finalizing lookup tables.</pre>"
            ],
            "text/plain": [
              "Finalizing lookup tables."
            ]
          },
          "metadata": {
            "tags": []
          }
        },
        {
          "output_type": "display_data",
          "data": {
            "text/html": [
              "<pre>Generating candidate set for working with new users.</pre>"
            ],
            "text/plain": [
              "Generating candidate set for working with new users."
            ]
          },
          "metadata": {
            "tags": []
          }
        },
        {
          "output_type": "display_data",
          "data": {
            "text/html": [
              "<pre>Finished training in 1.15516s</pre>"
            ],
            "text/plain": [
              "Finished training in 1.15516s"
            ]
          },
          "metadata": {
            "tags": []
          }
        },
        {
          "output_type": "stream",
          "text": [
            "+------------+-----------+---------------------+------+\n",
            "| CustomerID | productId |        score        | rank |\n",
            "+------------+-----------+---------------------+------+\n",
            "|     0      |  85099BJ  |  0.372740737678718  |  1   |\n",
            "|     0      |   22197J  |  0.3444147321485704 |  2   |\n",
            "|     0      |   22699D  | 0.34062284563293904 |  3   |\n",
            "|   32769    |  85099BJ  |  0.4265949355096233 |  1   |\n",
            "|   32769    |   22197J  |  0.3906760732738339 |  2   |\n",
            "|   32769    |   20725N  |  0.3777158211688606 |  3   |\n",
            "|   24579    |   22086O  |  0.216906381977929  |  1   |\n",
            "|   24579    |  85123AY  | 0.19505339860916138 |  2   |\n",
            "|   24579    |   21212D  | 0.19446545177035862 |  3   |\n",
            "|   343557   |   22699D  |  0.3756618609925582 |  1   |\n",
            "+------------+-----------+---------------------+------+\n",
            "[2916 rows x 4 columns]\n",
            "\n"
          ],
          "name": "stdout"
        }
      ]
    },
    {
      "cell_type": "code",
      "metadata": {
        "id": "dXMRRK0w-22Y",
        "colab_type": "code",
        "colab": {}
      },
      "source": [
        "def create_output(model, users_to_recommend, n_rec, print_csv=True):\n",
        "    recomendation = model.recommend(users=users_to_recommend, k=n_rec)\n",
        "    df_rec = recomendation.to_dataframe()\n",
        "    df_rec['recommendedProducts'] = df_rec.groupby([user_id])[item_id] \\\n",
        "        .transform(lambda x: '|'.join(x.astype(str)))\n",
        "    df_output = df_rec[['CustomerID', 'recommendedProducts']].drop_duplicates() \\\n",
        "        .sort_values('CustomerID').set_index('CustomerID')\n",
        "    if print_csv:\n",
        "        df_output.to_csv('recommendation.csv')\n",
        "        print(\"An output file can be found in 'output' folder with name 'option1_recommendation.csv'\")\n",
        "    return df_output"
      ],
      "execution_count": 0,
      "outputs": []
    },
    {
      "cell_type": "code",
      "metadata": {
        "id": "86GhRKT-ALLy",
        "colab_type": "code",
        "outputId": "7077978c-cd4f-4fa5-b2c1-0f2d5902d1b5",
        "colab": {
          "base_uri": "https://localhost:8080/",
          "height": 269
        }
      },
      "source": [
        "df_output = create_output(pear_norm, users_to_recommend, 3, print_csv=True)\n",
        "print(df_output.shape)\n",
        "df_output.head()"
      ],
      "execution_count": 0,
      "outputs": [
        {
          "output_type": "stream",
          "text": [
            "An output file can be found in 'output' folder with name 'option1_recommendation.csv'\n",
            "(972, 1)\n"
          ],
          "name": "stdout"
        },
        {
          "output_type": "execute_result",
          "data": {
            "text/html": [
              "<div>\n",
              "<style scoped>\n",
              "    .dataframe tbody tr th:only-of-type {\n",
              "        vertical-align: middle;\n",
              "    }\n",
              "\n",
              "    .dataframe tbody tr th {\n",
              "        vertical-align: top;\n",
              "    }\n",
              "\n",
              "    .dataframe thead th {\n",
              "        text-align: right;\n",
              "    }\n",
              "</style>\n",
              "<table border=\"1\" class=\"dataframe\">\n",
              "  <thead>\n",
              "    <tr style=\"text-align: right;\">\n",
              "      <th></th>\n",
              "      <th>recommendedProducts</th>\n",
              "    </tr>\n",
              "    <tr>\n",
              "      <th>CustomerID</th>\n",
              "      <th></th>\n",
              "    </tr>\n",
              "  </thead>\n",
              "  <tbody>\n",
              "    <tr>\n",
              "      <th>0</th>\n",
              "      <td>21690A|84548X|21816Y</td>\n",
              "    </tr>\n",
              "    <tr>\n",
              "      <th>900</th>\n",
              "      <td>84548X|21690A|81950BS</td>\n",
              "    </tr>\n",
              "    <tr>\n",
              "      <th>1800</th>\n",
              "      <td>84548X|21690A|21816Y</td>\n",
              "    </tr>\n",
              "    <tr>\n",
              "      <th>2790</th>\n",
              "      <td>84548X|21690A|81950BS</td>\n",
              "    </tr>\n",
              "    <tr>\n",
              "      <th>4590</th>\n",
              "      <td>84548X|21690A|21816Y</td>\n",
              "    </tr>\n",
              "  </tbody>\n",
              "</table>\n",
              "</div>"
            ],
            "text/plain": [
              "              recommendedProducts\n",
              "CustomerID                       \n",
              "0            21690A|84548X|21816Y\n",
              "900         84548X|21690A|81950BS\n",
              "1800         84548X|21690A|21816Y\n",
              "2790        84548X|21690A|81950BS\n",
              "4590         84548X|21690A|21816Y"
            ]
          },
          "metadata": {
            "tags": []
          },
          "execution_count": 53
        }
      ]
    },
    {
      "cell_type": "code",
      "metadata": {
        "id": "zXD51aF2_uqv",
        "colab_type": "code",
        "colab": {}
      },
      "source": [
        "def customer_recomendation(customer_id):\n",
        "    if customer_id not in df_output.index:\n",
        "        print('Customer not found.')\n",
        "        return customer_id\n",
        "    return df_output.loc[customer_id]"
      ],
      "execution_count": 0,
      "outputs": []
    },
    {
      "cell_type": "code",
      "metadata": {
        "id": "brTcVKBMAB_e",
        "colab_type": "code",
        "outputId": "8beb55e9-9e32-4938-d0f0-ec6467c6b40d",
        "colab": {
          "base_uri": "https://localhost:8080/",
          "height": 51
        }
      },
      "source": [
        "##generating output...\n",
        "customer_recomendation(32769)"
      ],
      "execution_count": 0,
      "outputs": [
        {
          "output_type": "execute_result",
          "data": {
            "text/plain": [
              "recommendedProducts    21690A|84548X|21816Y\n",
              "Name: 32769, dtype: object"
            ]
          },
          "metadata": {
            "tags": []
          },
          "execution_count": 69
        }
      ]
    }
  ]
}